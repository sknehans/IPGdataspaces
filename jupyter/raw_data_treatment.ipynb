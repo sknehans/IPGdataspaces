{
 "cells": [
  {
   "cell_type": "code",
   "execution_count": 1,
   "id": "76824cec-3f34-4826-9ac3-a5c3c88026fa",
   "metadata": {},
   "outputs": [],
   "source": [
    "import numpy as np\n",
    "import pandas as pd\n",
    "import os\n",
    "from glob import glob\n",
    "import matplotlib.pyplot as plt\n",
    "\n",
    "from thefuzz import fuzz, process"
   ]
  },
  {
   "cell_type": "code",
   "execution_count": 2,
   "id": "f9e2a9bf-5376-433a-9355-19fa6863e336",
   "metadata": {},
   "outputs": [
    {
     "name": "stdout",
     "output_type": "stream",
     "text": [
      "(176,)\n"
     ]
    }
   ],
   "source": [
    "ipg_ids = pd.read_excel('../raw/ipg_wos_ids.ods', engine='odf')\n",
    "wos_mask = ipg_ids.iloc[:,4:].notna().values\n",
    "wos = ipg_ids.iloc[:,4:].values[wos_mask]\n",
    "ipg_names = ipg_ids['IPG'].values\n",
    "print(wos.shape)"
   ]
  },
  {
   "cell_type": "code",
   "execution_count": 15,
   "id": "b8687b09-d2f9-417a-b4ab-b403ff6e129d",
   "metadata": {},
   "outputs": [
    {
     "name": "stdout",
     "output_type": "stream",
     "text": [
      "AI = (CBE-4324-2022 OR CBN-5956-2022 OR H-8368-2015 OR KFM-0458-2024 OR G-1969-2015 OR KKR-9775-2024 OR KQR-2448-2024 OR MFU-1899-2025 OR ELB-9477-2022 OR IJL-6492-2023 OR FZV-5395-2022 OR EPN-2939-2022 OR KAA-0528-2024 OR EOI-9585-2022 OR IAX-5680-2023 OR CHP-5632-2022 OR KCM-1031-2024 OR JBW-9506-2023 OR KCT-4444-2024 OR HGT-9595-2022 OR ENO-9327-2022 OR CHO-4713-2022 OR GBC-6210-2022 OR N-8209-2013 OR DSS-1130-2022 OR IRT-7105-2023 OR DSJ-9947-2022 OR CLX-7732-2022 OR IBO-8695-2023 OR CNX-6601-2022 OR ICJ-0558-2023 OR COH-7797-2022 OR DVG-9458-2022 OR FZB-8921-2022 OR CQC-0997-2022 OR CBY-5175-2022 OR MFB-1084-2025 OR IKP-2914-2023 OR HVL-8243-2023 OR FZL-2254-2022 OR CQW-2740-2022 OR KOX-9064-2024 OR CPZ-2723-2022 OR IRM-7363-2023 OR ICU-1372-2023 OR EXP-0201-2022 OR AFM-9644-2022 OR IAI-2779-2023 OR GCA-3334-2022 OR CQU-8893-2022 OR CSS-5020-2022 OR HIB-8150-2022 OR CSI-5103-2022 OR CSM-0261-2022 OR CUG-6635-2022 OR EYP-1172-2022 OR KKL-9484-2024 OR FYK-2959-2022 OR ILP-5061-2023 OR FBY-0703-2022 OR GDM-5649-2022 OR DVT-0567-2022 OR IRS-1895-2023 OR FBQ-7751-2022 OR DTD-2909-2022 OR ILG-5694-2023 OR FCN-7000-2022 OR GGA-4352-2022 OR FBK-3800-2022 OR H-9721-2017 OR HUR-9788-2023 OR FFI-3429-2022 OR DBY-1690-2022 OR IFM-0739-2023 OR DRZ-5712-2022 OR FLW-6920-2022 OR GAI-6082-2022 OR HYH-6847-2023 OR DYO-3171-2022 OR DGF-6545-2022 OR IMT-5445-2023 OR GCR-2118-2022 OR JSN-5081-2023 OR KJY-7954-2024 OR HVL-8014-2023 OR LPJ-2594-2024 OR GPG-4821-2022 OR B-6535-2012 OR KBO-7325-2024 OR GXO-3718-2022 OR FOV-8746-2022 OR IMV-9923-2023 OR FLG-3446-2022 OR ABE-6496-2020 OR DGW-2539-2022 OR KNT-6877-2024 OR DJC-9252-2022 OR IFI-0277-2023 OR FNC-3296-2022 OR IOI-9733-2023 OR DJT-7293-2022 OR IFI-6967-2023 OR DVZ-2002-2022 OR DJD-7848-2022 OR FZH-4857-2022 OR IGK-6460-2023 OR MHX-8411-2025 OR DVH-3270-2022 OR FRL-7166-2022 OR MEF-3169-2025 OR GFJ-3774-2022 OR P-6532-2016 OR IFD-8299-2023 OR FRB-2758-2022 OR IPC-9363-2023 OR IFW-1547-2023 OR DLQ-3497-2022 OR DMP-7260-2022 OR IFY-0244-2023 OR FXD-6498-2022 OR JTE-7585-2023 OR KGF-8318-2024 OR DWG-0173-2022 OR IGL-9240-2023 OR FWG-9876-2022 OR DZW-1790-2022 OR GCP-4151-2022 OR IOU-7900-2023 OR DYX-0730-2022 OR H-6965-2013 OR JXL-6241-2024 OR DXJ-3193-2022 OR DZV-7353-2022 OR GCP-1167-2022 OR A-3270-2013 OR KBV-8222-2024 OR EAM-3049-2022 OR HQA-7052-2023 OR KCL-6342-2024 OR MAB-8987-2025 OR DZF-0570-2022 OR HHI-9331-2022 OR CEU-9575-2022 OR IIM-3461-2023 OR IHN-7744-2023 OR GEP-5506-2022 OR GEF-1165-2022 OR EGJ-6425-2022 OR EHQ-2274-2022 OR EDP-3727-2022 OR Y-8605-2018 OR IVQ-3902-2023 OR EGR-8994-2022 OR JAV-0529-2023 OR EIE-0067-2022 OR IPS-0843-2023 OR KTU-2830-2024 OR CHC-1697-2022 OR KDU-4127-2024 OR F-2155-2015 OR FZU-5055-2022 OR HWB-9803-2023 OR GWB-7826-2022 OR D-3628-2019 OR JZK-0537-2024 OR LOA-0631-2024 OR DVO-0165-2022 OR GJM-0297-2022 OR X-6343-2019 OR GKY-0187-2022 OR MFT-7378-2025 OR IWL-5464-2023 OR JUK-3299-2023 OR B-4888-2011 OR AAE-4991-2020 OR DSY-2324-2022)\n"
     ]
    }
   ],
   "source": [
    "print('AI = ({})'.format(' OR '.join(wos)) )"
   ]
  },
  {
   "cell_type": "code",
   "execution_count": 13,
   "id": "850f9511-0f42-4b35-95eb-93b9480dc8f3",
   "metadata": {},
   "outputs": [
    {
     "data": {
      "text/plain": [
       "'OG = (Lincoln University - Missouri OR University of Missouri Columbia OR University of Missouri System OR United States Department of Agriculture (USDA) OR Donald Danforth Plant Science Center)'"
      ]
     },
     "execution_count": 13,
     "metadata": {},
     "output_type": "execute_result"
    }
   ],
   "source": [
    "institutions = ['Lincoln University - Missouri',\n",
    "                'University of Missouri Columbia',\n",
    "                'University of Missouri System',\n",
    "                'United States Department of Agriculture (USDA)',\n",
    "                'Donald Danforth Plant Science Center']\n",
    "institutions = ' OR '.join(institutions)\n",
    "og = 'OG = (' + institutions +')'\n",
    "og"
   ]
  },
  {
   "cell_type": "code",
   "execution_count": 16,
   "id": "c01db250-1aa2-4d6b-9768-06b034c340aa",
   "metadata": {},
   "outputs": [
    {
     "name": "stdout",
     "output_type": "stream",
     "text": [
      "0\tEmily R. Althoff:\tAI = (CBE-4324-2022) AND OG = (Lincoln University - Missouri OR University of Missouri Columbia OR University of Missouri System OR United States Department of Agriculture (USDA) OR Donald Danforth Plant Science Center)\n",
      "1\tRuthie Angelovici:\tAI = (CBN-5956-2022) AND OG = (Lincoln University - Missouri OR University of Missouri Columbia OR University of Missouri System OR United States Department of Agriculture (USDA) OR Donald Danforth Plant Science Center)\n",
      "2\tJaime Barros-Rios:\tAI = (H-8368-2015 OR KFM-0458-2024) AND OG = (Lincoln University - Missouri OR University of Missouri Columbia OR University of Missouri System OR United States Department of Agriculture (USDA) OR Donald Danforth Plant Science Center)\n",
      "3\tNorman B. Best:\tAI = (G-1969-2015 OR KKR-9775-2024 OR KQR-2448-2024 OR MFU-1899-2025) AND OG = (Lincoln University - Missouri OR University of Missouri Columbia OR University of Missouri System OR United States Department of Agriculture (USDA) OR Donald Danforth Plant Science Center)\n",
      "4\tKristin Bilyeu:\tAI = (ELB-9477-2022 OR IJL-6492-2023) AND OG = (Lincoln University - Missouri OR University of Missouri Columbia OR University of Missouri System OR United States Department of Agriculture (USDA) OR Donald Danforth Plant Science Center)\n",
      "5\tJames A. Birchler:\tAI = (FZV-5395-2022 OR EPN-2939-2022 OR KAA-0528-2024) AND OG = (Lincoln University - Missouri OR University of Missouri Columbia OR University of Missouri System OR United States Department of Agriculture (USDA) OR Donald Danforth Plant Science Center)\n",
      "6\tDale G. Blevins:\tAI = (EOI-9585-2022 OR IAX-5680-2023) AND OG = (Lincoln University - Missouri OR University of Missouri Columbia OR University of Missouri System OR United States Department of Agriculture (USDA) OR Donald Danforth Plant Science Center)\n",
      "7\tJohn S. Boyer:\tAI = (CHP-5632-2022) AND OG = (Lincoln University - Missouri OR University of Missouri Columbia OR University of Missouri System OR United States Department of Agriculture (USDA) OR Donald Danforth Plant Science Center)\n",
      "8\tDavid M. Braun:\tAI = (KCM-1031-2024 OR JBW-9506-2023 OR KCT-4444-2024) AND OG = (Lincoln University - Missouri OR University of Missouri Columbia OR University of Missouri System OR United States Department of Agriculture (USDA) OR Donald Danforth Plant Science Center)\n",
      "9\tPamela J. Brown:\tAI = (HGT-9595-2022 OR ENO-9327-2022 OR CHO-4713-2022) AND OG = (Lincoln University - Missouri OR University of Missouri Columbia OR University of Missouri System OR United States Department of Agriculture (USDA) OR Donald Danforth Plant Science Center)\n",
      "10\tHeike Buecking:\tAI = (GBC-6210-2022) AND OG = (Lincoln University - Missouri OR University of Missouri Columbia OR University of Missouri System OR United States Department of Agriculture (USDA) OR Donald Danforth Plant Science Center)\n",
      "11\tJianlin (Jack) Cheng:\tAI = (N-8209-2013 OR DSS-1130-2022 OR IRT-7105-2023 OR DSJ-9947-2022) AND OG = (Lincoln University - Missouri OR University of Missouri Columbia OR University of Missouri System OR United States Department of Agriculture (USDA) OR Donald Danforth Plant Science Center)\n",
      "12\tEdward H. Coe:\tAI = (CLX-7732-2022 OR IBO-8695-2023) AND OG = (Lincoln University - Missouri OR University of Missouri Columbia OR University of Missouri System OR United States Department of Agriculture (USDA) OR Donald Danforth Plant Science Center)\n",
      "13\tDavid W. Emerich:\tAI = (CNX-6601-2022) AND OG = (Lincoln University - Missouri OR University of Missouri Columbia OR University of Missouri System OR United States Department of Agriculture (USDA) OR Donald Danforth Plant Science Center)\n",
      "14\tJames T. English:\tAI = (ICJ-0558-2023 OR COH-7797-2022) AND OG = (Lincoln University - Missouri OR University of Missouri Columbia OR University of Missouri System OR United States Department of Agriculture (USDA) OR Donald Danforth Plant Science Center)\n",
      "15\tRichard A. Ferrieri:\tAI = (DVG-9458-2022) AND OG = (Lincoln University - Missouri OR University of Missouri Columbia OR University of Missouri System OR United States Department of Agriculture (USDA) OR Donald Danforth Plant Science Center)\n",
      "16\tDeborah L. Finke:\tAI = (FZB-8921-2022 OR CQC-0997-2022) AND OG = (Lincoln University - Missouri OR University of Missouri Columbia OR University of Missouri System OR United States Department of Agriculture (USDA) OR Donald Danforth Plant Science Center)\n",
      "17\tSherry Flint-Garcia:\tAI = (CBY-5175-2022 OR MFB-1084-2025 OR IKP-2914-2023 OR HVL-8243-2023) AND OG = (Lincoln University - Missouri OR University of Missouri Columbia OR University of Missouri System OR United States Department of Agriculture (USDA) OR Donald Danforth Plant Science Center)\n",
      "18\tWilliam R. Folk:\tAI = (FZL-2254-2022 OR CQW-2740-2022 OR KOX-9064-2024) AND OG = (Lincoln University - Missouri OR University of Missouri Columbia OR University of Missouri System OR United States Department of Agriculture (USDA) OR Donald Danforth Plant Science Center)\n",
      "19\tFelix B. Fritschi:\tAI = (CPZ-2723-2022 OR IRM-7363-2023 OR ICU-1372-2023) AND OG = (Lincoln University - Missouri OR University of Missouri Columbia OR University of Missouri System OR United States Department of Agriculture (USDA) OR Donald Danforth Plant Science Center)\n",
      "20\tCandace Galen:\tAI = (EXP-0201-2022) AND OG = (Lincoln University - Missouri OR University of Missouri Columbia OR University of Missouri System OR United States Department of Agriculture (USDA) OR Donald Danforth Plant Science Center)\n",
      "21\tWalter Gassmann:\tAI = (AFM-9644-2022 OR IAI-2779-2023) AND OG = (Lincoln University - Missouri OR University of Missouri Columbia OR University of Missouri System OR United States Department of Agriculture (USDA) OR Donald Danforth Plant Science Center)\n",
      "22\tJason D. Gillman:\tAI = (GCA-3334-2022 OR CQU-8893-2022 OR CSS-5020-2022 OR HIB-8150-2022) AND OG = (Lincoln University - Missouri OR University of Missouri Columbia OR University of Missouri System OR United States Department of Agriculture (USDA) OR Donald Danforth Plant Science Center)\n",
      "23\tPerry Gustafson:\tAI = (CSI-5103-2022 OR CSM-0261-2022) AND OG = (Lincoln University - Missouri OR University of Missouri Columbia OR University of Missouri System OR United States Department of Agriculture (USDA) OR Donald Danforth Plant Science Center)\n",
      "24\tGretchen Hagen:\tAI = (CUG-6635-2022) AND OG = (Lincoln University - Missouri OR University of Missouri Columbia OR University of Missouri System OR United States Department of Agriculture (USDA) OR Donald Danforth Plant Science Center)\n",
      "25\tCorri D. Hamilton:\tAI = (EYP-1172-2022 OR KKL-9484-2024) AND OG = (Lincoln University - Missouri OR University of Missouri Columbia OR University of Missouri System OR United States Department of Agriculture (USDA) OR Donald Danforth Plant Science Center)\n",
      "26\tAntje Heese:\tAI = (FYK-2959-2022 OR ILP-5061-2023 OR FBY-0703-2022) AND OG = (Lincoln University - Missouri OR University of Missouri Columbia OR University of Missouri System OR United States Department of Agriculture (USDA) OR Donald Danforth Plant Science Center)\n",
      "27\tBruce E. Hibbard:\tAI = (GDM-5649-2022) AND OG = (Lincoln University - Missouri OR University of Missouri Columbia OR University of Missouri System OR United States Department of Agriculture (USDA) OR Donald Danforth Plant Science Center)\n",
      "28\tTrupti Joshi:\tAI = (DVT-0567-2022 OR IRS-1895-2023 OR FBQ-7751-2022) AND OG = (Lincoln University - Missouri OR University of Missouri Columbia OR University of Missouri System OR United States Department of Agriculture (USDA) OR Donald Danforth Plant Science Center)\n",
      "29\tDavid Kang:\tAI = (DTD-2909-2022 OR ILG-5694-2023 OR FCN-7000-2022) AND OG = (Lincoln University - Missouri OR University of Missouri Columbia OR University of Missouri System OR United States Department of Agriculture (USDA) OR Donald Danforth Plant Science Center)\n",
      "30\tToni Kazic:\tAI = (GGA-4352-2022 OR FBK-3800-2022) AND OG = (Lincoln University - Missouri OR University of Missouri Columbia OR University of Missouri System OR United States Department of Agriculture (USDA) OR Donald Danforth Plant Science Center)\n",
      "31\tAbraham J. Koo:\tAI = (H-9721-2017) AND OG = (Lincoln University - Missouri OR University of Missouri Columbia OR University of Missouri System OR United States Department of Agriculture (USDA) OR Donald Danforth Plant Science Center)\n",
      "32\tHari B. Krishnan:\tAI = (HUR-9788-2023 OR FFI-3429-2022) AND OG = (Lincoln University - Missouri OR University of Missouri Columbia OR University of Missouri System OR United States Department of Agriculture (USDA) OR Donald Danforth Plant Science Center)\n",
      "33\tMarc Libault:\tAI = (DBY-1690-2022 OR IFM-0739-2023) AND OG = (Lincoln University - Missouri OR University of Missouri Columbia OR University of Missouri System OR United States Department of Agriculture (USDA) OR Donald Danforth Plant Science Center)\n",
      "34\tChung-Ho Lin:\tAI = (DRZ-5712-2022) AND OG = (Lincoln University - Missouri OR University of Missouri Columbia OR University of Missouri System OR United States Department of Agriculture (USDA) OR Donald Danforth Plant Science Center)\n",
      "35\tMannie Liscum:\tAI = (FLW-6920-2022 OR GAI-6082-2022 OR HYH-6847-2023) AND OG = (Lincoln University - Missouri OR University of Missouri Columbia OR University of Missouri System OR United States Department of Agriculture (USDA) OR Donald Danforth Plant Science Center)\n",
      "36\tJoseph H. Lynch:\tAI = (DYO-3171-2022) AND OG = (Lincoln University - Missouri OR University of Missouri Columbia OR University of Missouri System OR United States Department of Agriculture (USDA) OR Donald Danforth Plant Science Center)\n",
      "37\tPaula McSteen:\tAI = (DGF-6545-2022 OR IMT-5445-2023) AND OG = (Lincoln University - Missouri OR University of Missouri Columbia OR University of Missouri System OR United States Department of Agriculture (USDA) OR Donald Danforth Plant Science Center)\n",
      "38\tDavid G. Mendoza-Cozatl:\tAI = (GCR-2118-2022 OR JSN-5081-2023 OR KJY-7954-2024 OR HVL-8014-2023 OR LPJ-2594-2024) AND OG = (Lincoln University - Missouri OR University of Missouri Columbia OR University of Missouri System OR United States Department of Agriculture (USDA) OR Donald Danforth Plant Science Center)\n",
      "39\tBlake C. Meyers:\tAI = (GPG-4821-2022 OR B-6535-2012 OR KBO-7325-2024 OR GXO-3718-2022) AND OG = (Lincoln University - Missouri OR University of Missouri Columbia OR University of Missouri System OR United States Department of Agriculture (USDA) OR Donald Danforth Plant Science Center)\n",
      "40\tJeanne Mihail:\tAI = (FOV-8746-2022 OR IMV-9923-2023 OR FLG-3446-2022) AND OG = (Lincoln University - Missouri OR University of Missouri Columbia OR University of Missouri System OR United States Department of Agriculture (USDA) OR Donald Danforth Plant Science Center)\n",
      "41\tRon Mittler:\tAI = (ABE-6496-2020 OR DGW-2539-2022 OR KNT-6877-2024) AND OG = (Lincoln University - Missouri OR University of Missouri Columbia OR University of Missouri System OR United States Department of Agriculture (USDA) OR Donald Danforth Plant Science Center)\n",
      "42\tBrian Mooney:\tAI = (DJC-9252-2022 OR IFI-0277-2023) AND OG = (Lincoln University - Missouri OR University of Missouri Columbia OR University of Missouri System OR United States Department of Agriculture (USDA) OR Donald Danforth Plant Science Center)\n",
      "43\tHarley D. Naumann:\tAI = (FNC-3296-2022 OR IOI-9733-2023) AND OG = (Lincoln University - Missouri OR University of Missouri Columbia OR University of Missouri System OR United States Department of Agriculture (USDA) OR Donald Danforth Plant Science Center)\n",
      "44\tKathleen J. Newton:\tAI = (DJT-7293-2022 OR IFI-6967-2023) AND OG = (Lincoln University - Missouri OR University of Missouri Columbia OR University of Missouri System OR United States Department of Agriculture (USDA) OR Donald Danforth Plant Science Center)\n",
      "45\tHenry Nguyen:\tAI = (DVZ-2002-2022 OR DJD-7848-2022 OR FZH-4857-2022 OR IGK-6460-2023 OR MHX-8411-2025) AND OG = (Lincoln University - Missouri OR University of Missouri Columbia OR University of Missouri System OR United States Department of Agriculture (USDA) OR Donald Danforth Plant Science Center)\n",
      "46\tMel J. Oliver:\tAI = (DVH-3270-2022 OR FRL-7166-2022 OR MEF-3169-2025) AND OG = (Lincoln University - Missouri OR University of Missouri Columbia OR University of Missouri System OR United States Department of Agriculture (USDA) OR Donald Danforth Plant Science Center)\n",
      "47\tStephen G. Pallardy:\tAI = (GFJ-3774-2022) AND OG = (Lincoln University - Missouri OR University of Missouri Columbia OR University of Missouri System OR United States Department of Agriculture (USDA) OR Donald Danforth Plant Science Center)\n",
      "48\tSoyon Park:\tAI = (P-6532-2016 OR IFD-8299-2023) AND OG = (Lincoln University - Missouri OR University of Missouri Columbia OR University of Missouri System OR United States Department of Agriculture (USDA) OR Donald Danforth Plant Science Center)\n",
      "49\tScott C. Peck:\tAI = (FRB-2758-2022 OR IPC-9363-2023 OR IFW-1547-2023 OR DLQ-3497-2022) AND OG = (Lincoln University - Missouri OR University of Missouri Columbia OR University of Missouri System OR United States Department of Agriculture (USDA) OR Donald Danforth Plant Science Center)\n",
      "50\tDouglas D. Randall:\tAI = (DMP-7260-2022 OR IFY-0244-2023) AND OG = (Lincoln University - Missouri OR University of Missouri Columbia OR University of Missouri System OR United States Department of Agriculture (USDA) OR Donald Danforth Plant Science Center)\n",
      "51\tAndrew Scaboo:\tAI = (FXD-6498-2022 OR JTE-7585-2023 OR KGF-8318-2024) AND OG = (Lincoln University - Missouri OR University of Missouri Columbia OR University of Missouri System OR United States Department of Agriculture (USDA) OR Donald Danforth Plant Science Center)\n",
      "52\tCraig Schenck:\tAI = (DWG-0173-2022 OR IGL-9240-2023) AND OG = (Lincoln University - Missouri OR University of Missouri Columbia OR University of Missouri System OR United States Department of Agriculture (USDA) OR Donald Danforth Plant Science Center)\n",
      "53\tJames E. Schoelz:\tAI = (FWG-9876-2022 OR DZW-1790-2022) AND OG = (Lincoln University - Missouri OR University of Missouri Columbia OR University of Missouri System OR United States Department of Agriculture (USDA) OR Donald Danforth Plant Science Center)\n",
      "54\tRobert E. Sharp:\tAI = (GCP-4151-2022 OR IOU-7900-2023) AND OG = (Lincoln University - Missouri OR University of Missouri Columbia OR University of Missouri System OR United States Department of Agriculture (USDA) OR Donald Danforth Plant Science Center)\n",
      "55\tChi-Ren Shyu:\tAI = (DYX-0730-2022) AND OG = (Lincoln University - Missouri OR University of Missouri Columbia OR University of Missouri System OR United States Department of Agriculture (USDA) OR Donald Danforth Plant Science Center)\n",
      "56\tR. Keith Slotkin:\tAI = (H-6965-2013) AND OG = (Lincoln University - Missouri OR University of Missouri Columbia OR University of Missouri System OR United States Department of Agriculture (USDA) OR Donald Danforth Plant Science Center)\n",
      "57\tPrashant D. Sonawane:\tAI = (JXL-6241-2024) AND OG = (Lincoln University - Missouri OR University of Missouri Columbia OR University of Missouri System OR United States Department of Agriculture (USDA) OR Donald Danforth Plant Science Center)\n",
      "58\tGary Stacey:\tAI = (DXJ-3193-2022 OR DZV-7353-2022 OR GCP-1167-2022) AND OG = (Lincoln University - Missouri OR University of Missouri Columbia OR University of Missouri System OR United States Department of Agriculture (USDA) OR Donald Danforth Plant Science Center)\n",
      "59\tLloyd W. Sumner:\tAI = (A-3270-2013 OR KBV-8222-2024 OR EAM-3049-2022 OR HQA-7052-2023) AND OG = (Lincoln University - Missouri OR University of Missouri Columbia OR University of Missouri System OR United States Department of Agriculture (USDA) OR Donald Danforth Plant Science Center)\n",
      "60\tJay J. Thelen:\tAI = (KCL-6342-2024 OR MAB-8987-2025) AND OG = (Lincoln University - Missouri OR University of Missouri Columbia OR University of Missouri System OR United States Department of Agriculture (USDA) OR Donald Danforth Plant Science Center)\n",
      "61\tJohn C. Walker:\tAI = (DZF-0570-2022 OR HHI-9331-2022 OR CEU-9575-2022 OR IIM-3461-2023 OR IHN-7744-2023) AND OG = (Lincoln University - Missouri OR University of Missouri Columbia OR University of Missouri System OR United States Department of Agriculture (USDA) OR Donald Danforth Plant Science Center)\n",
      "62\tJacob D. Washburn:\tAI = (GEP-5506-2022) AND OG = (Lincoln University - Missouri OR University of Missouri Columbia OR University of Missouri System OR United States Department of Agriculture (USDA) OR Donald Danforth Plant Science Center)\n",
      "63\tJeffrey D. Wood:\tAI = (GEF-1165-2022 OR EGJ-6425-2022 OR EHQ-2274-2022 OR EDP-3727-2022) AND OG = (Lincoln University - Missouri OR University of Missouri Columbia OR University of Missouri System OR United States Department of Agriculture (USDA) OR Donald Danforth Plant Science Center)\n",
      "64\tDong Xu:\tAI = (Y-8605-2018 OR IVQ-3902-2023 OR EGR-8994-2022 OR JAV-0529-2023 OR EIE-0067-2022 OR IPS-0843-2023 OR KTU-2830-2024 OR CHC-1697-2022 OR KDU-4127-2024 OR F-2155-2015 OR FZU-5055-2022 OR HWB-9803-2023 OR GWB-7826-2022) AND OG = (Lincoln University - Missouri OR University of Missouri Columbia OR University of Missouri System OR United States Department of Agriculture (USDA) OR Donald Danforth Plant Science Center)\n",
      "65\tBing Yang:\tAI = (D-3628-2019 OR JZK-0537-2024 OR LOA-0631-2024 OR DVO-0165-2022 OR GJM-0297-2022) AND OG = (Lincoln University - Missouri OR University of Missouri Columbia OR University of Missouri System OR United States Department of Agriculture (USDA) OR Donald Danforth Plant Science Center)\n",
      "66\tShuqun Zhang:\tAI = (X-6343-2019 OR GKY-0187-2022 OR MFT-7378-2025 OR IWL-5464-2023 OR JUK-3299-2023) AND OG = (Lincoln University - Missouri OR University of Missouri Columbia OR University of Missouri System OR United States Department of Agriculture (USDA) OR Donald Danforth Plant Science Center)\n",
      "67\tJianfeng Zhou:\tAI = (B-4888-2011 OR AAE-4991-2020) AND OG = (Lincoln University - Missouri OR University of Missouri Columbia OR University of Missouri System OR United States Department of Agriculture (USDA) OR Donald Danforth Plant Science Center)\n",
      "68\tJie Zhu:\tAI = (DSY-2324-2022) AND OG = (Lincoln University - Missouri OR University of Missouri Columbia OR University of Missouri System OR United States Department of Agriculture (USDA) OR Donald Danforth Plant Science Center)\n"
     ]
    }
   ],
   "source": [
    "for i in range(len(ipg_ids)):\n",
    "    print(i, end='\\t')\n",
    "    print(ipg_ids.iloc[i, 1], end=':\\t')\n",
    "    print('AI = ({}) AND {}'.format(' OR '.join(ipg_ids.iloc[i, [False,False,False,False]+wos_mask[i].tolist()]), og ) )"
   ]
  },
  {
   "cell_type": "code",
   "execution_count": 49,
   "id": "3fdd6dc5-ce49-4bf1-b82a-276372816a22",
   "metadata": {},
   "outputs": [
    {
     "name": "stdout",
     "output_type": "stream",
     "text": [
      "(4194, 71)\n"
     ]
    }
   ],
   "source": [
    "numfiles = len(glob('../raw/savedrecs*.txt'))\n",
    "txtdata = [None for _ in range(numfiles)]\n",
    "for i in range(len(txtdata)):\n",
    "    txtdata[i] = pd.read_table('../raw/savedrecs-{}.txt'.format(i))\n",
    "\n",
    "data = pd.concat(txtdata[-(numfiles-len(ipg_ids)):], ignore_index=True)\n",
    "print(data.shape)"
   ]
  },
  {
   "cell_type": "code",
   "execution_count": 80,
   "id": "310f532d-f797-45a6-b352-26527b0db7b4",
   "metadata": {},
   "outputs": [],
   "source": [
    "mergecols = data.columns[np.sum(data.notna().values, axis=0) == len(data)].tolist()"
   ]
  },
  {
   "cell_type": "code",
   "execution_count": 96,
   "id": "5c45508f-f182-48cd-9ece-a1beea33fd09",
   "metadata": {},
   "outputs": [
    {
     "name": "stdout",
     "output_type": "stream",
     "text": [
      "(2, 119)\n",
      "RangeIndex(start=0, stop=2, step=1)\n"
     ]
    }
   ],
   "source": [
    "i,j = 56,55\n",
    "merge = pd.merge(txtdata[i], txtdata[j], how='inner', on=mergecols)\n",
    "print(merge.shape)\n",
    "print(merge.index)"
   ]
  },
  {
   "cell_type": "code",
   "execution_count": 97,
   "id": "8d1ab855-656d-4807-b240-2a452e581391",
   "metadata": {},
   "outputs": [
    {
     "name": "stdout",
     "output_type": "stream",
     "text": [
      "PT\tJ\n",
      "AU\tBrechenmacher, L; Lei, ZT; Libault, M; Findley, S; Sugawara, M; Sadowsky, MJ; Sumner, LW; Stacey, G\n",
      "AF\tBrechenmacher, Laurent; Lei, Zhentian; Libault, Marc; Findley, Seth; Sugawara, Masayuki; Sadowsky, Michael J.; Sumner, Lloyd W.; Stacey, Gary\n",
      "TI\tSoybean Metabolites Regulated in Root Hairs in Response to the Symbiotic Bacterium <i>Bradyrhizobium japonicum</i>\n",
      "SO\tPLANT PHYSIOLOGY\n",
      "LA\tEnglish\n",
      "DT\tArticle\n",
      "NR\t154\n",
      "TC\t109\n",
      "Z9\t133\n",
      "U1\t3\n",
      "U2\t65\n",
      "PU\tOXFORD UNIV PRESS INC\n",
      "PI\tCARY\n",
      "PA\tJOURNALS DEPT, 2001 EVANS RD, CARY, NC 27513 USA\n",
      "PY\t2010\n",
      "PG\t15\n",
      "WC\tPlant Sciences\n",
      "WE\tScience Citation Index Expanded (SCI-EXPANDED)\n",
      "SC\tPlant Sciences\n",
      "GA\t634FQ\n",
      "DA\t2024-08-31\n",
      "UT\tWOS:000280566000030\n"
     ]
    }
   ],
   "source": [
    "k = 0\n",
    "for v in range(len(mergecols)):\n",
    "    print(mergecols[v], merge.loc[k, mergecols[v]], sep='\\t')"
   ]
  },
  {
   "cell_type": "code",
   "execution_count": 27,
   "id": "3c5b5703-aeb3-4335-81b2-0ebf3b921138",
   "metadata": {},
   "outputs": [
    {
     "name": "stdout",
     "output_type": "stream",
     "text": [
      "WANG, YF\t('Bing Yang', 62)\n",
      "RICHARDSON, SG\t('Richard A. Ferrieri', 70)\n",
      "SHARP, RE\t('Robert E. Sharp', 88)\n"
     ]
    }
   ],
   "source": [
    "i = 5\n",
    "for name in data.loc[i, 'AF'].split('; '):\n",
    "    print(name, process.extractOne(name, ipg_names, scorer=fuzz.partial_token_sort_ratio), sep='\\t')"
   ]
  }
 ],
 "metadata": {
  "kernelspec": {
   "display_name": "Python 3 (ipykernel)",
   "language": "python",
   "name": "python3"
  },
  "language_info": {
   "codemirror_mode": {
    "name": "ipython",
    "version": 3
   },
   "file_extension": ".py",
   "mimetype": "text/x-python",
   "name": "python",
   "nbconvert_exporter": "python",
   "pygments_lexer": "ipython3",
   "version": "3.10.12"
  }
 },
 "nbformat": 4,
 "nbformat_minor": 5
}
