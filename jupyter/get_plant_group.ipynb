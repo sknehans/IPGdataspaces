{
 "cells": [
  {
   "cell_type": "markdown",
   "id": "087cceb0-ae30-43bd-810e-4c8788630968",
   "metadata": {},
   "source": [
    "# Install libraries\n",
    "\n",
    "Make sure you [install `rapidfuzz`](https://github.com/rapidfuzz/RapidFuzz?tab=readme-ov-file) for fuzzy matching. Click the link for documentation.\n",
    "\n",
    "If you have issues with it, you can always go with [thefuzz](https://github.com/seatgeek/thefuzz). In that case, do `from thefuzz import fuzz, process` instead."
   ]
  },
  {
   "cell_type": "code",
   "execution_count": 1,
   "id": "68b70f73-4c58-4b12-9efc-9e9acea1ff88",
   "metadata": {},
   "outputs": [],
   "source": [
    "# Standard Python\n",
    "import os\n",
    "import json\n",
    "import unicodedata\n",
    "from glob import glob\n",
    "from importlib import reload\n",
    "import datetime\n",
    "\n",
    "# Canon libraries\n",
    "import pandas as pd\n",
    "import numpy as np\n",
    "\n",
    "# You'll need to install this one\n",
    "from rapidfuzz import fuzz, process\n",
    "\n",
    "# The utils file to keep the notebook short\n",
    "import utils"
   ]
  },
  {
   "cell_type": "markdown",
   "id": "98064aab-4446-495e-98b1-48bb5c28e894",
   "metadata": {},
   "source": [
    "- The file `pnas.2217564120.sd01.xlsx` has a list of plant-specific academic journals. The base of the list comes [from here](https://www.pnas.org/doi/10.1073/pnas.2217564120). Then based on MU, I added missing journals containing the words \n",
    "```\n",
    "['Plant', 'Botan', 'Phyto', 'Hort', 'Crop']\n",
    "```\n",
    "\n",
    "- I manually excluded the Crop-related journals whose scope also included topics closer to economy or robot engineering\n",
    "- The `MeSH_terms` file contains keywords that are mostly unique to plant biology research. \n",
    "- The terms are lowercased to have better chances of matching."
   ]
  },
  {
   "cell_type": "code",
   "execution_count": 2,
   "id": "c9e5ac71-7ed5-459b-8ac1-05c3ba87430c",
   "metadata": {},
   "outputs": [],
   "source": [
    "src = '..' + os.sep + 'raw' + os.sep\n",
    "journals = pd.read_excel(src + 'pnas.2217564120.sd01.xlsx')\n",
    "plantssns = pd.unique( journals.loc[:, ['ISSN','eISSN'] ].values.ravel() )\n",
    "plantssns = plantssns[~pd.isna(plantssns)]\n",
    "meshterms = np.char.lower(np.loadtxt(src + 'MeSH_terms.txt', dtype=str, delimiter=','))\n",
    "meshterms = np.array([' ' + x for x in meshterms])"
   ]
  },
  {
   "cell_type": "markdown",
   "id": "3a79a1d3-f175-46d3-badd-8c2c0a294c1d",
   "metadata": {},
   "source": [
    "## Loading and preparing the data\n",
    "\n",
    "- Load all the papers published with at least one author affiliated to MU since 2015.\n",
    "- Data obtained from [dimensions.ai](https://www.dimensions.ai/)\n",
    "- In reality `MU_Pubs_2026.xlsx` are all the papers published under *University of Missouri System*.\n",
    "- To make name comparisons and diagnostics easier down the road, all the author names will be converted to `ascii` (standard English-language keyboard)\n",
    "\n",
    "```python\n",
    "# Example\n",
    "text = unicodedata.normalize('NFD', text)\n",
    "text = text.encode('ascii', 'ignore').decode(\"utf-8\")\n",
    "```\n",
    "The comands above rewrite the names\n",
    "```\n",
    "Sanz, Amparo; Pike, Sharon; Khan, Mather A; Carrió-Seguí, Àngela; Mendoza-Cózatl, David G; Peñarrubia, Lola; Gassmann, Walter\n",
    "```\n",
    "as:\n",
    "```\n",
    "Sanz, Amparo; Pike, Sharon; Khan, Mather A; Carrio-Segui, Angela; Mendoza-Cozatl, David G; Penarrubia, Lola; Gassmann, Walter\n",
    "```\n",
    "- Notice that all the accents and non-English characters have been replaced.\n",
    "- Also, part of the data preparation removes any `.` or `-` characters: `David M. Braun ---> David M Braun`\n",
    "\n",
    "---\n",
    "\n",
    "- The `Raw Affiliation` column lists the actual author address as scraped by Dimensions\n",
    "- We will only keep the papers that the raw address mention either the university name, city, or state\n",
    "    - The places are lowercase to account for papers with addresses all uppercase (e.g. `Missouri` vs `MISSOURI`)\n",
    "    - In MU case, the university name and state are the same\n",
    "- Also consider those papers with `Raw Affiliation` as `[see note]`: this happens in papers where there are more than 100 authors (not uncommon in astrophysics or database-compilation publications)\n",
    "- Example of paper where [authors are listed as MU](https://app.dimensions.ai/details/publication/pub.1173010241) but if you go to the original paper, this is not the case.\n",
    "\n",
    "---\n",
    "\n",
    "### The generated `MU_Pubs.csv` file \n",
    "\n",
    "The script writes automatically a `MU_Pubs.csv` file so that you save time loading for future ocassions. The file is:\n",
    "- A compilation of all the Dimension Excel spreadsheets\n",
    "- Minus entries related to talks and old preprints\n",
    "- Minus entries where no author is associated to the university/city/state\n",
    "- Minus duplicates e.g. there are duplicate papers between those associated to MU vs those associated to the UM System\n",
    "- With only 29/54 columns\n",
    "- Where the author-related columns have no accents/hyphens/dots\n",
    "\n",
    "---\n",
    "\n",
    "- Generate or load `MU_Pubs.csv`\n",
    "- Change the row indices to the Dimensions ID\n",
    "- Slightly less that 42K publications for MU"
   ]
  },
  {
   "cell_type": "code",
   "execution_count": 3,
   "id": "b5552803-166c-425c-bdc0-e09b8c7413e0",
   "metadata": {},
   "outputs": [
    {
     "name": "stdout",
     "output_type": "stream",
     "text": [
      "Found ../raw/MU_Pubs.csv already computed\n",
      "Loaded 41909 publications\n"
     ]
    }
   ],
   "source": [
    "# Of the 54 fields available from Dimensions, these 29 might be relevant at some point\n",
    "columns_to_keep = [\n",
    "    'Publication ID', 'Title', 'Abstract', 'Source title', 'ISSN', 'Publisher', 'MeSH terms', 'PubYear',\n",
    "    'Open Access', 'Publication Type', 'Document Type', 'Authors', 'Authors (Raw Affiliation)', 'Corresponding Authors',\n",
    "    'Research Organizations - standardized', 'GRID IDs', 'City of standardized research organization',\n",
    "    'State of standardized research organization', 'Country of standardized research organization', 'Funder',\n",
    "    'Funder Group', 'Funder Country', 'Times cited', 'RCR', 'FCR', 'Altmetric', 'Fields of Research (ANZSRC 2020)',\n",
    "    'Units of Assessment', 'Sustainable Development Goals'\n",
    "]\n",
    "\n",
    "institute = 'MU'\n",
    "places = ['columbia', 'missouri', '[see note]']\n",
    "institutes = ['University of Missouri-Columbia', 'University of Missouri System']\n",
    "\n",
    "filename = src + institute+'_Pubs.csv'\n",
    "\n",
    "reload(utils)\n",
    "if not os.path.isfile(filename):\n",
    "    filenames = sorted(glob(src + institute + '*.xlsx'))\n",
    "    df = utils.prepare_dimensions_data(filenames, columns_to_keep, places)\n",
    "    df.to_csv(filename, index=False)\n",
    "else:\n",
    "    print('Found', filename, 'already computed')\n",
    "    df = pd.read_csv(filename)\n",
    "\n",
    "df = df.set_index(columns_to_keep[0])\n",
    "print('Loaded', len(df), 'publications')"
   ]
  },
  {
   "cell_type": "markdown",
   "id": "06419693-e1b1-4564-8c16-4953a34cd265",
   "metadata": {},
   "source": [
    "## Criteria to determine if a publication is plant-specific\n",
    "\n",
    "To determine if a paper is plant-specific, it has to match at least one criteria (out of three).\n",
    "\n",
    "### 1. Published in a plant-specific journal\n",
    "\n",
    "- Subset the papers that were published in plant-specific journals.\n",
    "- Looking at journals by their unique numerical identifier (ISSN) instead of their names to avoid spelling confusions."
   ]
  },
  {
   "cell_type": "code",
   "execution_count": 4,
   "id": "c3d82ccb-2abc-4680-b569-a04c5484bb1a",
   "metadata": {},
   "outputs": [
    {
     "name": "stdout",
     "output_type": "stream",
     "text": [
      "Plant-specific journal publications:\t 1297\n"
     ]
    }
   ],
   "source": [
    "isplantjournal = utils.mask_plant_journals(df, plantssns)\n",
    "print('Plant-specific journal publications:\\t',np.sum(isplantjournal))"
   ]
  },
  {
   "cell_type": "markdown",
   "id": "416b04c6-9870-49b0-ab6e-d84350397460",
   "metadata": {},
   "source": [
    "### 2. Categorized as *Agriculture*, *Plant Biology*, *Soil*, or *Horticulture* according to the ANZSRC Fields of Research\n",
    "\n",
    "- There are other releated fields or research (e.g. Environmental Biotechnology), but those two are the ones pretty much exclusive for plant research"
   ]
  },
  {
   "cell_type": "code",
   "execution_count": 5,
   "id": "693db4b0-a1cd-4cd6-bdcd-8edb11e454c4",
   "metadata": {},
   "outputs": [
    {
     "name": "stdout",
     "output_type": "stream",
     "text": [
      "Categorized as plant-specific:\t 1175\n"
     ]
    }
   ],
   "source": [
    "ANZSRC = ['3108 Plant Biology','3008 Horticultural', '4106 Soil']\n",
    "isplantanz = utils.mask_plant_anzsrc(df, ANZSRC)\n",
    "print('Categorized as plant-specific:\\t',np.sum(isplantanz))"
   ]
  },
  {
   "cell_type": "markdown",
   "id": "c3a67d24-8ac1-4ea9-9038-a0228eab3edd",
   "metadata": {},
   "source": [
    "### 3. It has at least 3 plant-related keywords\n",
    "\n",
    "- The `MeSH_terms` file has a list of what I deemed plant-related keywords that are very much related to plant biology and **not** biology in general\n",
    "- We require at least 3 terms to make sure the paper is truly focused on plants\n",
    "- e.g. While *cellulose* or *lignin* are very much plant-exclusive terms, you have papers that discuss them in the context of material science"
   ]
  },
  {
   "cell_type": "code",
   "execution_count": 6,
   "id": "f84593ff-d6c3-4b8f-abdb-5a26341f6b36",
   "metadata": {},
   "outputs": [],
   "source": [
    "isplantmesh = utils.count_plant_mesh(df, meshterms)"
   ]
  },
  {
   "cell_type": "markdown",
   "id": "5c0d8376-509a-407a-a4e8-610c8c5c851a",
   "metadata": {},
   "source": [
    "---\n",
    "## Update\n",
    "\n",
    "We have decided that we are only going to use the first and third criteria.\n",
    "\n",
    "---\n",
    "\n",
    "## Getting plant-specific corresponding authors\n",
    "\n",
    "- Find the union of those ~~three~~ two criteria to determine the subset of plant-specific publications\n",
    "- Discard the publications with no corresponding authors"
   ]
  },
  {
   "cell_type": "code",
   "execution_count": 7,
   "id": "9de33248-5213-4da4-a152-b07b987664a4",
   "metadata": {},
   "outputs": [
    {
     "name": "stdout",
     "output_type": "stream",
     "text": [
      "(1438, 4)\n"
     ]
    },
    {
     "data": {
      "text/html": [
       "<div>\n",
       "<style scoped>\n",
       "    .dataframe tbody tr th:only-of-type {\n",
       "        vertical-align: middle;\n",
       "    }\n",
       "\n",
       "    .dataframe tbody tr th {\n",
       "        vertical-align: top;\n",
       "    }\n",
       "\n",
       "    .dataframe thead th {\n",
       "        text-align: right;\n",
       "    }\n",
       "</style>\n",
       "<table border=\"1\" class=\"dataframe\">\n",
       "  <thead>\n",
       "    <tr style=\"text-align: right;\">\n",
       "      <th></th>\n",
       "      <th>Title</th>\n",
       "      <th>Source title</th>\n",
       "      <th>Authors</th>\n",
       "      <th>Corresponding Authors</th>\n",
       "    </tr>\n",
       "    <tr>\n",
       "      <th>Publication ID</th>\n",
       "      <th></th>\n",
       "      <th></th>\n",
       "      <th></th>\n",
       "      <th></th>\n",
       "    </tr>\n",
       "  </thead>\n",
       "  <tbody>\n",
       "    <tr>\n",
       "      <th>pub.1071447931</th>\n",
       "      <td>Genome‐Wide Association Analysis of Diverse So...</td>\n",
       "      <td>The Plant Genome</td>\n",
       "      <td>Dhanapal, Arun Prabhu; Ray, Jeffery D; Singh, ...</td>\n",
       "      <td>Fritschi, Felix B (University of MissouriColum...</td>\n",
       "    </tr>\n",
       "    <tr>\n",
       "      <th>pub.1071447926</th>\n",
       "      <td>Phytic Acid and Inorganic Phosphate Compositio...</td>\n",
       "      <td>The Plant Genome</td>\n",
       "      <td>Vincent, Jennifer A; Stacey, Minviluz; Stacey,...</td>\n",
       "      <td>Bilyeu, Kristin D (University of MissouriColum...</td>\n",
       "    </tr>\n",
       "    <tr>\n",
       "      <th>pub.1071447895</th>\n",
       "      <td>Linkage Maps of a Mediterranean × Continental ...</td>\n",
       "      <td>The Plant Genome</td>\n",
       "      <td>Dierking, Ryan; Azhaguvel, Perumal; Kallenbach...</td>\n",
       "      <td>Dierking, Ryan (Purdue University West Lafayette)</td>\n",
       "    </tr>\n",
       "    <tr>\n",
       "      <th>pub.1059858594</th>\n",
       "      <td>A model for intracellular movement of Cauliflo...</td>\n",
       "      <td>Journal of Experimental Botany</td>\n",
       "      <td>Schoelz, James E; Angel, Carlos A; Nelson, Ric...</td>\n",
       "      <td>Schoelz, James E (University of MissouriColumbia)</td>\n",
       "    </tr>\n",
       "    <tr>\n",
       "      <th>pub.1059858561</th>\n",
       "      <td>Core clock, SUB1, and ABAR genes mediate flood...</td>\n",
       "      <td>Journal of Experimental Botany</td>\n",
       "      <td>Syed, Naeem H; Prince, Silvas J; Mutava, Raymo...</td>\n",
       "      <td>Syed, Naeem H (Canterbury Christ Church Univer...</td>\n",
       "    </tr>\n",
       "  </tbody>\n",
       "</table>\n",
       "</div>"
      ],
      "text/plain": [
       "                                                            Title  \\\n",
       "Publication ID                                                      \n",
       "pub.1071447931  Genome‐Wide Association Analysis of Diverse So...   \n",
       "pub.1071447926  Phytic Acid and Inorganic Phosphate Compositio...   \n",
       "pub.1071447895  Linkage Maps of a Mediterranean × Continental ...   \n",
       "pub.1059858594  A model for intracellular movement of Cauliflo...   \n",
       "pub.1059858561  Core clock, SUB1, and ABAR genes mediate flood...   \n",
       "\n",
       "                                  Source title  \\\n",
       "Publication ID                                   \n",
       "pub.1071447931                The Plant Genome   \n",
       "pub.1071447926                The Plant Genome   \n",
       "pub.1071447895                The Plant Genome   \n",
       "pub.1059858594  Journal of Experimental Botany   \n",
       "pub.1059858561  Journal of Experimental Botany   \n",
       "\n",
       "                                                          Authors  \\\n",
       "Publication ID                                                      \n",
       "pub.1071447931  Dhanapal, Arun Prabhu; Ray, Jeffery D; Singh, ...   \n",
       "pub.1071447926  Vincent, Jennifer A; Stacey, Minviluz; Stacey,...   \n",
       "pub.1071447895  Dierking, Ryan; Azhaguvel, Perumal; Kallenbach...   \n",
       "pub.1059858594  Schoelz, James E; Angel, Carlos A; Nelson, Ric...   \n",
       "pub.1059858561  Syed, Naeem H; Prince, Silvas J; Mutava, Raymo...   \n",
       "\n",
       "                                            Corresponding Authors  \n",
       "Publication ID                                                     \n",
       "pub.1071447931  Fritschi, Felix B (University of MissouriColum...  \n",
       "pub.1071447926  Bilyeu, Kristin D (University of MissouriColum...  \n",
       "pub.1071447895  Dierking, Ryan (Purdue University West Lafayette)  \n",
       "pub.1059858594  Schoelz, James E (University of MissouriColumbia)  \n",
       "pub.1059858561  Syed, Naeem H (Canterbury Christ Church Univer...  "
      ]
     },
     "execution_count": 7,
     "metadata": {},
     "output_type": "execute_result"
    }
   ],
   "source": [
    "min_kws = 3\n",
    "#isplant = isplantanz + isplantjournal + (isplantmesh >= min_kws)\n",
    "isplant = isplantjournal + (isplantmesh >= min_kws)\n",
    "\n",
    "data = df.iloc[isplant][['Title', 'Source title', 'Authors', 'Corresponding Authors']]\n",
    "data = data[~pd.isna(data['Corresponding Authors'])]\n",
    "print(data.shape)\n",
    "data.head()"
   ]
  },
  {
   "cell_type": "markdown",
   "id": "1a9c3f4b-d799-46c1-aa95-86688993b960",
   "metadata": {},
   "source": [
    "- Susbset only the papers that have at least one corresponding author in the list of `institutes`\n",
    "- Some papers have multiple corresponding authors: these are separated by `);`\n",
    "    - They appear as `Author 1 (University 1); Author 2 (University 2)`\n",
    "    - The closing parenthesis `)` is important to separate multiple authors\n",
    "    - Otherwise, you can get confused with authors with multiple affiliations: `Author 1 (University 1; University 2)`\n",
    "- Once you have separated all the corresponding authors, separate their name from their affiliation\n",
    "- Get the unique authors (remove the repetitions)\n",
    "- Count how many papers they are associated to these unique authors"
   ]
  },
  {
   "cell_type": "code",
   "execution_count": 8,
   "id": "287b8e42-0aed-4d49-85e4-7b377245421a",
   "metadata": {},
   "outputs": [
    {
     "name": "stdout",
     "output_type": "stream",
     "text": [
      "Found 219 different corresponding authors across 714 publications\n"
     ]
    }
   ],
   "source": [
    "pnum, uni_idx = utils.corresponding_authors_from_institute(data, institutes)\n",
    "print('Found', len(pnum),'different corresponding authors across', len(uni_idx), 'publications')"
   ]
  },
  {
   "cell_type": "markdown",
   "id": "ea44d2d5-a604-49dc-a465-46dc771cb32c",
   "metadata": {},
   "source": [
    "Some Corresponding Author values are weird in the raw data. For example, one paper lists its corresponding author as\n",
    "```\n",
    "Ferrieri, Richard (University of Missouri-Columbia; Missouri Research Reactor Center, University of Missouri, Columbia, MO 65211, USA;, srstt9@mail.missouri.edu, (S.S.);, afbkhn@mail.missouri.edu, (A.H.);, garren.powell@mail.missouri.edu, (G.P.);, alanstaett@burnsmcd.com, (A.A.);, gerheart@msu.edu, (A.G.);, mvbenoit@mail.missouri.edu, (M.B.);, wildersl@missouri.edu, (S.W.);, schuellerm@missouri.edu, (M.S.\n",
    "```\n",
    "Which gives \n",
    "```\n",
    "University of Missouri-Columbia; University of Missouri-Columbia)\n",
    "```\n",
    "as one of the corresponding authors (the other one is `Ferrieri, Richard`, which is also kept)\n",
    "\n",
    "- This is obviously wrong, so we are going to remove from the list those names that are *too* long.\n",
    "- *Too long* in this case means much larger than the 90% quantile. As in a [boxplot](https://en.wikipedia.org/wiki/Box_plot).\n",
    "- Keep a Series with number of papers associated to each name\n",
    "- **You may skip this step if the discarded names are actual people names**"
   ]
  },
  {
   "cell_type": "code",
   "execution_count": 9,
   "id": "123edec8-6cf1-4381-9c9b-85d652a0cf65",
   "metadata": {},
   "outputs": [
    {
     "name": "stdout",
     "output_type": "stream",
     "text": [
      "Dropped:\n",
      "Index(['University of MissouriColumbia)',\n",
      "       'University of MissouriColumbia; University of MissouriColumbia)',\n",
      "       'University of MissouriColumbia; University of MissouriColumbia; University of MissouriColumbia)'],\n",
      "      dtype='object')\n",
      "--\n",
      "Reduced to 216 corresponding authors\n"
     ]
    }
   ],
   "source": [
    "pnum = utils.remove_long_corresponding(pnum)\n",
    "print('Reduced to', len(pnum),'corresponding authors')"
   ]
  },
  {
   "cell_type": "markdown",
   "id": "ef49f5ac-909a-46ea-a631-5a6219706e5a",
   "metadata": {},
   "source": [
    "### Fuzzy-match each name with everyone else in the list\n",
    "\n",
    "- A score of 100 means perfect match\n",
    "- I have not fully verified, but I think the fuzzy match operations are not symmetric (which does not make sense to me, but oh well...)"
   ]
  },
  {
   "cell_type": "code",
   "execution_count": 10,
   "id": "be091940-8670-466a-9a35-8ebae854907e",
   "metadata": {},
   "outputs": [
    {
     "data": {
      "text/html": [
       "<div>\n",
       "<style scoped>\n",
       "    .dataframe tbody tr th:only-of-type {\n",
       "        vertical-align: middle;\n",
       "    }\n",
       "\n",
       "    .dataframe tbody tr th {\n",
       "        vertical-align: top;\n",
       "    }\n",
       "\n",
       "    .dataframe thead th {\n",
       "        text-align: right;\n",
       "    }\n",
       "</style>\n",
       "<table border=\"1\" class=\"dataframe\">\n",
       "  <thead>\n",
       "    <tr style=\"text-align: right;\">\n",
       "      <th></th>\n",
       "      <th>de Borja Reis, Andre Froes</th>\n",
       "      <th>Kalaitzandonakes, Nicholas</th>\n",
       "      <th>MgbechiEzeri, Josephine U</th>\n",
       "      <th>Mitchum, Melissa Goellner</th>\n",
       "      <th>Chhapekar, Sushil Satish</th>\n",
       "    </tr>\n",
       "  </thead>\n",
       "  <tbody>\n",
       "    <tr>\n",
       "      <th>de Borja Reis, Andre Froes</th>\n",
       "      <td>-1.0</td>\n",
       "      <td>-1.0</td>\n",
       "      <td>-1.0</td>\n",
       "      <td>-1.0</td>\n",
       "      <td>-1.0</td>\n",
       "    </tr>\n",
       "    <tr>\n",
       "      <th>Kalaitzandonakes, Nicholas</th>\n",
       "      <td>-1.0</td>\n",
       "      <td>-1.0</td>\n",
       "      <td>-1.0</td>\n",
       "      <td>-1.0</td>\n",
       "      <td>-1.0</td>\n",
       "    </tr>\n",
       "    <tr>\n",
       "      <th>MgbechiEzeri, Josephine U</th>\n",
       "      <td>-1.0</td>\n",
       "      <td>-1.0</td>\n",
       "      <td>-1.0</td>\n",
       "      <td>-1.0</td>\n",
       "      <td>-1.0</td>\n",
       "    </tr>\n",
       "    <tr>\n",
       "      <th>Mitchum, Melissa Goellner</th>\n",
       "      <td>-1.0</td>\n",
       "      <td>-1.0</td>\n",
       "      <td>-1.0</td>\n",
       "      <td>-1.0</td>\n",
       "      <td>-1.0</td>\n",
       "    </tr>\n",
       "    <tr>\n",
       "      <th>Chhapekar, Sushil Satish</th>\n",
       "      <td>-1.0</td>\n",
       "      <td>-1.0</td>\n",
       "      <td>-1.0</td>\n",
       "      <td>-1.0</td>\n",
       "      <td>-1.0</td>\n",
       "    </tr>\n",
       "  </tbody>\n",
       "</table>\n",
       "</div>"
      ],
      "text/plain": [
       "                            de Borja Reis, Andre Froes  \\\n",
       "de Borja Reis, Andre Froes                        -1.0   \n",
       "Kalaitzandonakes, Nicholas                        -1.0   \n",
       "MgbechiEzeri, Josephine U                         -1.0   \n",
       "Mitchum, Melissa Goellner                         -1.0   \n",
       "Chhapekar, Sushil Satish                          -1.0   \n",
       "\n",
       "                            Kalaitzandonakes, Nicholas  \\\n",
       "de Borja Reis, Andre Froes                        -1.0   \n",
       "Kalaitzandonakes, Nicholas                        -1.0   \n",
       "MgbechiEzeri, Josephine U                         -1.0   \n",
       "Mitchum, Melissa Goellner                         -1.0   \n",
       "Chhapekar, Sushil Satish                          -1.0   \n",
       "\n",
       "                            MgbechiEzeri, Josephine U  \\\n",
       "de Borja Reis, Andre Froes                       -1.0   \n",
       "Kalaitzandonakes, Nicholas                       -1.0   \n",
       "MgbechiEzeri, Josephine U                        -1.0   \n",
       "Mitchum, Melissa Goellner                        -1.0   \n",
       "Chhapekar, Sushil Satish                         -1.0   \n",
       "\n",
       "                            Mitchum, Melissa Goellner  \\\n",
       "de Borja Reis, Andre Froes                       -1.0   \n",
       "Kalaitzandonakes, Nicholas                       -1.0   \n",
       "MgbechiEzeri, Josephine U                        -1.0   \n",
       "Mitchum, Melissa Goellner                        -1.0   \n",
       "Chhapekar, Sushil Satish                         -1.0   \n",
       "\n",
       "                            Chhapekar, Sushil Satish  \n",
       "de Borja Reis, Andre Froes                      -1.0  \n",
       "Kalaitzandonakes, Nicholas                      -1.0  \n",
       "MgbechiEzeri, Josephine U                       -1.0  \n",
       "Mitchum, Melissa Goellner                       -1.0  \n",
       "Chhapekar, Sushil Satish                        -1.0  "
      ]
     },
     "execution_count": 10,
     "metadata": {},
     "output_type": "execute_result"
    }
   ],
   "source": [
    "fz = utils.fuzzy_matrix(pnum)\n",
    "fz.iloc[:5, :5]"
   ]
  },
  {
   "cell_type": "markdown",
   "id": "9636ba47-c9f8-4b16-a183-175a1c0180ce",
   "metadata": {},
   "source": [
    "**Re-order the remaining authors by the length of their names.** If two names have the same character length, preference is given to the name style with more associated papers. If two names share length and paper count, they are sorted alphabetically.\n",
    "\n",
    "- Make a copy of the list\n",
    "- Remove those names that are deemed copies\n",
    "- Add the papers of the matches (if the fuzzy match is higher than `tol`)\n",
    "- Only remove names downstream:\n",
    "    - E.g. Since the list is ordered by name length, *David Braun* will be removed because of *David M Braun* but not the other way around\n",
    "    - That way, we always keep the longer version of the name (which I assume is the correct version)\n",
    " \n",
    "**Additionally, a dictionary with names and fuzzy alternatives is kept**: `fznames`\n",
    "\n",
    "- This dictionary will later help us to quickly detect author names to eventually build quickly an adjacency matrix\n",
    "- The dictionary is also enriched with initial-less variants for each name"
   ]
  },
  {
   "cell_type": "code",
   "execution_count": 27,
   "id": "3ed58a42-0fed-42d1-8c19-81c44bb40fa0",
   "metadata": {},
   "outputs": [
    {
     "name": "stdout",
     "output_type": "stream",
     "text": [
      "Started with:\t 216 \n",
      "\n",
      "Bilyeu, Kristin D\t-->\t['Bilyeu, Kristin']\n",
      "Birchler, James A\t-->\t['Birchler, James']\n",
      "Bish, Mandy D\t-->\t['Bish, Mandy']\n",
      "Bradley, Kevin W\t-->\t['Bradley, Kevin']\n",
      "Chen, Pengyin\t-->\t['Chen, P']\n",
      "Cocroft, Reginald B\t-->\t['Cocroft, Reginald']\n",
      "Ferrieri, Richard A\t-->\t['Ferrieri, Richard', 'Ferrieri, R A']\n",
      "FlintGarcia, Sherry A\t-->\t['FlintGarcia, Sherry']\n",
      "Fritschi, Felix B\t-->\t['Fritschi, F B']\n",
      "Guo, Ya\t-->\t['Guo, Y']\n",
      "Hibbard, Bruce E\t-->\t['Hibbard, B E']\n",
      "Kallenbach, Robert L\t-->\t['Kallenbach, Robert']\n",
      "Lall, Namrita\t-->\t['Lall, N']\n",
      "Matthes, Michaela S\t-->\t['Matthes, Michaela']\n",
      "Mitchum, Melissa Goellner\t-->\t['Mitchum, Melissa G']\n",
      "Nguyen, Henry T\t-->\t['T Nguyen, Henry', 'Nguyen, H T']\n",
      "Patharkar, Osric Rahul\t-->\t['Patharkar, O Rahul']\n",
      "Scaboo, Andrew M\t-->\t['Scaboo, Andrew']\n",
      "Shannon, J Grover\t-->\t['Shannon, Grover']\n",
      "Shelby, Kent S\t-->\t['Shelby, KS']\n",
      "Voothuluru, Priyamvada\t-->\t['Voothuluru, Priya']\n",
      "Vuong, Tri D\t-->\t['Vuong, T D']\n",
      "Xiong, Xi\t-->\t['Xi, Xiong']\n",
      "\n",
      "After matching:\t191\n"
     ]
    }
   ],
   "source": [
    "tol = 90\n",
    "pnums, fznames = utils.fuzzymatching_authors(pnum, fz, tol)"
   ]
  },
  {
   "cell_type": "code",
   "execution_count": 29,
   "id": "9c0652b3-4678-49cc-9b11-75d1e287950d",
   "metadata": {},
   "outputs": [
    {
     "data": {
      "text/plain": [
       "['Fritschi, Felix B', 'Fritschi, F B', 'Fritschi, Felix']"
      ]
     },
     "execution_count": 29,
     "metadata": {},
     "output_type": "execute_result"
    }
   ],
   "source": [
    "name = 'Fritschi, Felix B'\n",
    "fznames[name]"
   ]
  },
  {
   "cell_type": "markdown",
   "id": "51930d55-44cd-46d7-aeee-45fade96759d",
   "metadata": {},
   "source": [
    "____\n",
    "\n",
    "# Computing the USDA file\n",
    "\n",
    "- Some folks are both USDA and MU, but Dimensions registers them as USDA only.\n",
    "- We'll repeat the steps above and see if we can add any papers to the list of MU authors we already have\n",
    "- **We'll be adding only papers, not authors**\n",
    "- The end goal is to generate a file with USDA-affiliated authors and the number of plant-specific publications they have as corresponding authors."
   ]
  },
  {
   "cell_type": "code",
   "execution_count": 30,
   "id": "97211ba1-2c41-4415-8541-234306f305ab",
   "metadata": {},
   "outputs": [
    {
     "name": "stdout",
     "output_type": "stream",
     "text": [
      "Loaded 21908 publications\n"
     ]
    }
   ],
   "source": [
    "# Same pipeline as above\n",
    "\n",
    "usda_institute = 'USDA'\n",
    "filename = src + usda_institute+'_Pubs.csv'\n",
    "\n",
    "if not os.path.isfile(filename):\n",
    "    filenames = sorted(glob(src + usda_institute + '*.xlsx'))\n",
    "    usda = utils.prepare_dimensions_data(filenames, columns_to_keep)\n",
    "    usda.to_csv(filename, index=False)\n",
    "else:\n",
    "    usda = pd.read_csv(filename)\n",
    "\n",
    "usda = usda.set_index(columns_to_keep[0])\n",
    "print('Loaded', len(usda), 'publications')"
   ]
  },
  {
   "cell_type": "markdown",
   "id": "de995624-3844-4e4f-b1fa-0f2c4aede116",
   "metadata": {},
   "source": [
    "- Only consider the USDA papers where at least one author is geographically associated to the city/state of the university\n",
    "- This way we discard people in USDA units outside the state that could be wrongly added later\n",
    "    - E.g. someone who published as a PhD student/postdoc at MU but then moved to USDA in Florida"
   ]
  },
  {
   "cell_type": "code",
   "execution_count": 31,
   "id": "a0d5aa30-4f7d-416e-b534-549b9e9370a8",
   "metadata": {},
   "outputs": [
    {
     "name": "stdout",
     "output_type": "stream",
     "text": [
      "Only kept 1308 publications that are geographically associated to ['columbia', 'missouri', '[see note]']\n"
     ]
    }
   ],
   "source": [
    "isplace = np.zeros(len(usda), dtype=bool)\n",
    "for i,idx in enumerate(usda.index):\n",
    "    isplace[i] = any([place in usda.loc[idx, 'Authors (Raw Affiliation)'].lower() for place in places])\n",
    "usda = usda.iloc[isplace]\n",
    "print('Only kept', len(usda), 'publications that are geographically associated to', places)\n",
    "#usda.head()"
   ]
  },
  {
   "cell_type": "markdown",
   "id": "57b4e5c2-3927-45d3-96fd-d6df6bbf863f",
   "metadata": {},
   "source": [
    "- Apply the same criteria to only look at plant-specific papers\n",
    "- Drop the papers with missing corresponding author information"
   ]
  },
  {
   "cell_type": "code",
   "execution_count": 32,
   "id": "968c3f21-d15c-4fc3-bd77-9761f4d4f12f",
   "metadata": {},
   "outputs": [
    {
     "name": "stdout",
     "output_type": "stream",
     "text": [
      "Plant-specific journal publications:\t 232\n",
      "Categorized as plant-specific:\t 200\n",
      "Only kept 274 papers with corresponding author\n"
     ]
    }
   ],
   "source": [
    "usda_isplantjournal = utils.mask_plant_journals(usda, plantssns)\n",
    "print('Plant-specific journal publications:\\t',np.sum(usda_isplantjournal))\n",
    "usda_isplantanz = utils.mask_plant_anzsrc(usda, ANZSRC)\n",
    "print('Categorized as plant-specific:\\t',np.sum(usda_isplantanz))\n",
    "usda_isplantmesh = utils.count_plant_mesh(usda, meshterms)\n",
    "\n",
    "usda_isplant = (usda_isplantjournal + (usda_isplantmesh >= min_kws))\n",
    "usdata = usda.iloc[usda_isplant][['Title', 'Source title', 'Authors', 'Corresponding Authors']]\n",
    "usdata = usdata[~pd.isna(usdata['Corresponding Authors'])]\n",
    "print('Only kept', len(usdata), 'papers with corresponding author')"
   ]
  },
  {
   "cell_type": "markdown",
   "id": "d04d3866-0d01-4e51-b493-e2c541dc9344",
   "metadata": {},
   "source": [
    "- Count only those papers with corresponding author who is affiliated to USDA\n",
    "- Exclude the papers were the corresponding author is also affiliated to the university: avoid double counting\n",
    "- Do fuzzy matching to drop duplicate names\n",
    "- Keep a dictionary with all the altername, fuzzy spellings of author names"
   ]
  },
  {
   "cell_type": "code",
   "execution_count": 33,
   "id": "1afa9923-3763-4af7-8358-0af6be26431f",
   "metadata": {},
   "outputs": [
    {
     "name": "stdout",
     "output_type": "stream",
     "text": [
      "Found 45 different corresponding authors in 14 publications\n",
      "Dropped:\n",
      "Index([], dtype='object')\n",
      "--\n",
      "Reduced to 45 corresponding authors\n",
      "Started with:\t 45 \n",
      "\n",
      "Best, Norman B\t-->\t['Best, Norman']\n",
      "\n",
      "After matching:\t44\n"
     ]
    }
   ],
   "source": [
    "usda_institutes = ['United States Department of Agriculture', 'Agricultural Research Service', 'Biological Control of Insects Research']\n",
    "uspnum, _ = utils.corresponding_authors_from_institute(usdata, usda_institutes, exclude_list=institutes)\n",
    "print('Found', len(uspnum),'different corresponding authors in', len(idx), 'publications')\n",
    "\n",
    "uspnum = utils.remove_long_corresponding(uspnum)\n",
    "print('Reduced to', len(uspnum),'corresponding authors')\n",
    "usfz = utils.fuzzy_matrix(uspnum)\n",
    "usda_pubs, usda_fzdict = utils.fuzzymatching_authors(uspnum, usfz, tol)"
   ]
  },
  {
   "cell_type": "markdown",
   "id": "7a67c613-aafe-4ff1-971e-770b1918b81b",
   "metadata": {},
   "source": [
    "- Add the USDA papers to authors that have at least one corresponding paper with the university\n",
    "- Refine the fuzzy dictionary by only keeping authors (and their fuzzy spellings) associated to the university"
   ]
  },
  {
   "cell_type": "code",
   "execution_count": 34,
   "id": "b9a57655-a3ff-489e-9b0b-8440bec760cf",
   "metadata": {},
   "outputs": [
    {
     "name": "stdout",
     "output_type": "stream",
     "text": [
      "Best, Norman B\t--->\tBest, Norman B\t[100.00]\tTrue\n",
      "Bilyeu, Kristin D\t--->\tBilyeu, Kristin\t[100.00]\tFalse\n",
      "Das, Debatosh\t--->\tDas, Debatosh\t[100.00]\tTrue\n",
      "Gillman, Jason D\t--->\tGillman, Jason D\t[100.00]\tTrue\n",
      "Hibbard, Bruce E\t--->\tHibbard, Bruce E\t[100.00]\tTrue\n",
      "Pereira, Adriano E\t--->\tPereira, Adriano E\t[100.00]\tTrue\n",
      "Shelby, Kent S\t--->\tShelby, Kent S\t[100.00]\tTrue\n",
      "Washburn, Jacob D\t--->\tWashburn, Jacob D\t[100.00]\tTrue\n"
     ]
    }
   ],
   "source": [
    "usda_fznames = dict()\n",
    "choices = usda_pubs.index.values\n",
    "for name in pnums.index:\n",
    "    match, fscore, _ = process.extractOne(name, choices, scorer=fuzz.partial_ratio)\n",
    "    if fscore >= 99:\n",
    "        print(name, '--->', match, '[{:.2f}]'.format(fscore), name==match, sep='\\t')\n",
    "        usda_fznames[name] = usda_fzdict[match]\n",
    "        pnums[name] += usda_pubs[match]"
   ]
  },
  {
   "cell_type": "markdown",
   "id": "ad0aaa68-59df-4045-931e-17d611a1d465",
   "metadata": {},
   "source": [
    "# Saving results\n",
    "\n",
    "### Determine which authors make the cut\n",
    "\n",
    "- How many papers are required to be considered an \"IPG\" member?\n",
    "- **Update: We settled with 2 papers as minimum**\n",
    "    - It is a compromise to include faculty that joined recently but exclude most of the false positives (students, postdocs, scientists)\n",
    "- List of \"IPG\" authors sorted by number of publications and then by alphabetical order"
   ]
  },
  {
   "cell_type": "code",
   "execution_count": 35,
   "id": "6627fa60-564e-4afd-a98c-42448b3300a9",
   "metadata": {},
   "outputs": [
    {
     "data": {
      "text/plain": [
       "names\n",
       "Nguyen, Henry T           57\n",
       "Mittler, Ron              43\n",
       "Meyers, Blake C           33\n",
       "Stacey, Gary              33\n",
       "Birchler, James A         25\n",
       "                          ..\n",
       "Sharp, Robert E            2\n",
       "Shergill, Lovreet S        2\n",
       "Swain, Durga Madhab        2\n",
       "Voothuluru, Priyamvada     2\n",
       "Ye, Heng                   2\n",
       "Name: N, Length: 88, dtype: int64"
      ]
     },
     "execution_count": 35,
     "metadata": {},
     "output_type": "execute_result"
    }
   ],
   "source": [
    "ipg_list = pnums.to_frame('N').reset_index(names='names').sort_values(by=['N','names'], ascending=[False,True]).set_index('names').squeeze()\n",
    "ipg_list = ipg_list[ipg_list >= 2]\n",
    "ipg_list.to_csv(src + institute + '_IPG.csv', index=True, index_label='Corresponding Authors', header=['Pubs Num'])\n",
    "ipg_list"
   ]
  },
  {
   "cell_type": "markdown",
   "id": "7b46e509-4acd-4a61-a60d-a974e0046004",
   "metadata": {},
   "source": [
    "### Additional USDA papers that should be added to the analysis\n",
    "\n",
    "- Going back to the list of all USDA papers that are geographically associated to the university location\n",
    "- Take the subset of papers where at least one author is a joint USDA - IPG member (e.g. Norman B Best)\n",
    "- Since we now know all the fuzzy spellings for every name, we don't need to repeat the fuzzy match\n",
    "- We can match quickly and directly [with `.str.contains`](https://pandas.pydata.org/pandas-docs/stable/reference/api/pandas.Series.str.contains.html#pandas.Series.str.contains) and having the name end in `;`.\n",
    "- We also [use `.str.endswith`](https://pandas.pydata.org/pandas-docs/stable/reference/api/pandas.Series.str.endswith.html#pandas.Series.str.endswith) for when the name is the last one (so it doesn't have a `;`)\n",
    "- **Except** when the fuzzy spelling has a first name consisting of only initials\n",
    "    - `Smith, D` could be David Smith or Diana Smith\n",
    "    - In that case, we limit our possible matching to the plant-specific subset of papers\n",
    "    - I assume that there is only one D. Smith who also is a plant scientist"
   ]
  },
  {
   "cell_type": "code",
   "execution_count": 47,
   "id": "e82cf844-694f-4d8c-bbab-8eae24e64747",
   "metadata": {},
   "outputs": [
    {
     "name": "stdout",
     "output_type": "stream",
     "text": [
      "There are 33 USDA papers that should be associated to MU but are not\n",
      "These papers are listed in MU_plus_USDA_Pubs.csv\n"
     ]
    }
   ],
   "source": [
    "usda_plant = usda.loc[usda_isplant]\n",
    "usda_ids = []\n",
    "\n",
    "for author in usda_fznames:\n",
    "    for name in usda_fznames[author]:\n",
    "        lname, fname = name.split(', ')\n",
    "\n",
    "        # If the first name is NOT only initials\n",
    "        # Match to the whole dataset\n",
    "        if any([ L != 1 for L in map(len,fname.split(' ')) ]):\n",
    "            papers = usda.loc[usda['Authors'].str.contains(name+';', regex=False)]\n",
    "            papers = pd.concat( (papers, usda.loc[usda['Authors'].str.endswith(name)]), axis=0)\n",
    "            usda_ids += papers.index.tolist()\n",
    "        else:\n",
    "            # Else, match only with plant-specific papers\n",
    "            papers = usda_plant.loc[usda_plant['Authors'].str.contains(name+';', regex=False)]\n",
    "            papers = pd.concat( (papers, usda_plant.loc[usda_plant['Authors'].str.endswith(name)]), axis=0)\n",
    "            usda_ids += papers.index.tolist()\n",
    "\n",
    "# Get unique IDs\n",
    "usda_ids = list(set(usda_ids))\n",
    "usda_extra = usda.loc[np.setdiff1d( usda_ids, df.index)]\n",
    "print('There are', len(usda_extra), 'USDA papers that should be associated to', institute,'but are not')\n",
    "\n",
    "filename = src + institute + '_plus_' + usda_institute + '_Pubs.csv'\n",
    "print('These papers are listed in', institute + '_plus_' + usda_institute + '_Pubs.csv')\n",
    "usda_extra.to_csv(filename, index=True, index_label=usda_extra.index.name)"
   ]
  },
  {
   "cell_type": "markdown",
   "id": "c3a7e84a-21d8-4172-afb7-d3a0db376766",
   "metadata": {},
   "source": [
    "### Dictionary with fuzzy name spellings\n",
    "\n",
    "- Add fuzzy spellings that were found in the USDA dataset\n",
    "- Only keep fuzzy spellings from \"IPG\" members\n",
    "- Save the collection of fuzzy spellings as a JSON file to be loaded later"
   ]
  },
  {
   "cell_type": "code",
   "execution_count": 38,
   "id": "2a72825e-3dd1-4b56-b007-54ee6fd4d48a",
   "metadata": {},
   "outputs": [],
   "source": [
    "filename = src + institute + '_fuzzy_names.json'\n",
    "for name in usda_fznames:\n",
    "    for alt in usda_fznames[name]:\n",
    "        if alt not in fznames[name]:\n",
    "            fznames[name].append(alt)\n",
    "\n",
    "fznames = dict((name, fznames[name]) for name in ipg_list.index)\n",
    "with open(filename, 'w') as f:\n",
    "    json.dump(fznames, f,indent=1, separators=(',', ':'))"
   ]
  },
  {
   "cell_type": "markdown",
   "id": "d4d0930a-8c78-48f9-86ba-d419ab77e47b",
   "metadata": {},
   "source": [
    "\n",
    "----\n",
    "\n",
    "# Example on how to find all the papers published by one author"
   ]
  },
  {
   "cell_type": "code",
   "execution_count": 46,
   "id": "2f10334a-ea03-4f4d-b267-e6295b99275c",
   "metadata": {},
   "outputs": [
    {
     "name": "stdout",
     "output_type": "stream",
     "text": [
      "Looking at Nguyen, Henry T\n",
      "Possible spellings:\t ['Nguyen, Henry T', 'T Nguyen, Henry', 'Nguyen, H T', 'Nguyen, Henry'] \n",
      "---\n",
      "All:\tNguyen, Henry T\t169\n",
      "All:\tT Nguyen, Henry\t1\n",
      "Plant:\tNguyen, H T\t13\n",
      "All:\tNguyen, Henry\t21\n",
      "---\n",
      "Total papers\t 203\n"
     ]
    }
   ],
   "source": [
    "df_plant = df.loc[isplant]\n",
    "ids = []\n",
    "\n",
    "author = ipg_list.index[0]\n",
    "print('Looking at',author)\n",
    "print('Possible spellings:\\t', fznames[author],'\\n---')\n",
    "\n",
    "for name in fznames[author]:\n",
    "    lname, fname = name.split(', ')\n",
    "    if any([ L != 1 for L in map(len,fname.split(' ')) ]):\n",
    "        papers = df.loc[df['Authors'].str.contains(name+';', regex=False)]\n",
    "        papers = pd.concat( (papers, df.loc[df['Authors'].str.endswith(name)]), axis=0)\n",
    "        ids += papers.index.tolist()\n",
    "        print('All:', name, len(papers), sep='\\t')\n",
    "    else:\n",
    "        papers = df_plant.loc[df_plant['Authors'].str.contains(name+';', regex=False)]\n",
    "        papers = pd.concat( (papers, df_plant.loc[df_plant['Authors'].str.endswith(name)]), axis=0)\n",
    "        ids += papers.index.tolist()\n",
    "        print('Plant:', name, len(papers), sep='\\t')\n",
    "\n",
    "# Remove duplicate IDs (if any)\n",
    "ids = list(set(ids))\n",
    "print('---\\nTotal papers\\t',len(ids))"
   ]
  },
  {
   "cell_type": "code",
   "execution_count": 48,
   "id": "a8accc54-c452-4d7c-8543-f25afadbd35f",
   "metadata": {},
   "outputs": [
    {
     "data": {
      "text/html": [
       "<div>\n",
       "<style scoped>\n",
       "    .dataframe tbody tr th:only-of-type {\n",
       "        vertical-align: middle;\n",
       "    }\n",
       "\n",
       "    .dataframe tbody tr th {\n",
       "        vertical-align: top;\n",
       "    }\n",
       "\n",
       "    .dataframe thead th {\n",
       "        text-align: right;\n",
       "    }\n",
       "</style>\n",
       "<table border=\"1\" class=\"dataframe\">\n",
       "  <thead>\n",
       "    <tr style=\"text-align: right;\">\n",
       "      <th></th>\n",
       "      <th>Title</th>\n",
       "      <th>Abstract</th>\n",
       "      <th>Source title</th>\n",
       "      <th>ISSN</th>\n",
       "      <th>Publisher</th>\n",
       "      <th>MeSH terms</th>\n",
       "      <th>PubYear</th>\n",
       "      <th>Open Access</th>\n",
       "      <th>Publication Type</th>\n",
       "      <th>Document Type</th>\n",
       "      <th>...</th>\n",
       "      <th>Funder</th>\n",
       "      <th>Funder Group</th>\n",
       "      <th>Funder Country</th>\n",
       "      <th>Times cited</th>\n",
       "      <th>RCR</th>\n",
       "      <th>FCR</th>\n",
       "      <th>Altmetric</th>\n",
       "      <th>Fields of Research (ANZSRC 2020)</th>\n",
       "      <th>Units of Assessment</th>\n",
       "      <th>Sustainable Development Goals</th>\n",
       "    </tr>\n",
       "    <tr>\n",
       "      <th>Publication ID</th>\n",
       "      <th></th>\n",
       "      <th></th>\n",
       "      <th></th>\n",
       "      <th></th>\n",
       "      <th></th>\n",
       "      <th></th>\n",
       "      <th></th>\n",
       "      <th></th>\n",
       "      <th></th>\n",
       "      <th></th>\n",
       "      <th></th>\n",
       "      <th></th>\n",
       "      <th></th>\n",
       "      <th></th>\n",
       "      <th></th>\n",
       "      <th></th>\n",
       "      <th></th>\n",
       "      <th></th>\n",
       "      <th></th>\n",
       "      <th></th>\n",
       "      <th></th>\n",
       "    </tr>\n",
       "  </thead>\n",
       "  <tbody>\n",
       "    <tr>\n",
       "      <th>pub.1122022308</th>\n",
       "      <td>Impacts of genomic research on soybean improve...</td>\n",
       "      <td>It has been commonly accepted that soybean dom...</td>\n",
       "      <td>Theoretical and Applied Genetics</td>\n",
       "      <td>0040-5752, 1432-2242</td>\n",
       "      <td>Springer Nature</td>\n",
       "      <td>asia, eastern; genome, plant; genomics; phenot...</td>\n",
       "      <td>2019</td>\n",
       "      <td>All OA; Hybrid</td>\n",
       "      <td>Article</td>\n",
       "      <td>Review Article</td>\n",
       "      <td>...</td>\n",
       "      <td>University Grants Committee</td>\n",
       "      <td>NaN</td>\n",
       "      <td>China</td>\n",
       "      <td>61</td>\n",
       "      <td>1.99</td>\n",
       "      <td>11.49</td>\n",
       "      <td>8.0</td>\n",
       "      <td>30 Agricultural, Veterinary and Food Sciences;...</td>\n",
       "      <td>A06 Agriculture, Veterinary and Food Science</td>\n",
       "      <td>2 Zero Hunger</td>\n",
       "    </tr>\n",
       "    <tr>\n",
       "      <th>pub.1033945056</th>\n",
       "      <td>Genetic variants in root architecture-related ...</td>\n",
       "      <td>BackgroundRoot system architecture is importan...</td>\n",
       "      <td>BMC Genomics</td>\n",
       "      <td>1471-2164</td>\n",
       "      <td>Springer Nature</td>\n",
       "      <td>alleles; chromosome mapping; genome, plant; pl...</td>\n",
       "      <td>2015</td>\n",
       "      <td>All OA; Gold</td>\n",
       "      <td>Article</td>\n",
       "      <td>Research Article</td>\n",
       "      <td>...</td>\n",
       "      <td>Directorate for Biological Sciences; National ...</td>\n",
       "      <td>US Federal Funders; NSF - National Science Fou...</td>\n",
       "      <td>United States; United States</td>\n",
       "      <td>82</td>\n",
       "      <td>1.74</td>\n",
       "      <td>7.80</td>\n",
       "      <td>7.0</td>\n",
       "      <td>31 Biological Sciences; 3105 Genetics</td>\n",
       "      <td>A06 Agriculture, Veterinary and Food Science</td>\n",
       "      <td>NaN</td>\n",
       "    </tr>\n",
       "    <tr>\n",
       "      <th>pub.1135327031</th>\n",
       "      <td>Development of an automated plant phenotyping ...</td>\n",
       "      <td>Plant high-throughput phenotyping technology i...</td>\n",
       "      <td>Computers and Electronics in Agriculture</td>\n",
       "      <td>0168-1699, 1872-7107</td>\n",
       "      <td>Elsevier</td>\n",
       "      <td>NaN</td>\n",
       "      <td>2021</td>\n",
       "      <td>Closed</td>\n",
       "      <td>Article</td>\n",
       "      <td>Research Article</td>\n",
       "      <td>...</td>\n",
       "      <td>China Scholarship Council</td>\n",
       "      <td>NaN</td>\n",
       "      <td>China</td>\n",
       "      <td>29</td>\n",
       "      <td>NaN</td>\n",
       "      <td>7.77</td>\n",
       "      <td>NaN</td>\n",
       "      <td>30 Agricultural, Veterinary and Food Sciences;...</td>\n",
       "      <td>A06 Agriculture, Veterinary and Food Science</td>\n",
       "      <td>NaN</td>\n",
       "    </tr>\n",
       "    <tr>\n",
       "      <th>pub.1130186383</th>\n",
       "      <td>Mapping Quantitative Trait Loci for Soybean Se...</td>\n",
       "      <td>Wild soybean species (Glycine soja Siebold &amp; Z...</td>\n",
       "      <td>Frontiers in Plant Science</td>\n",
       "      <td>1664-462X</td>\n",
       "      <td>Frontiers</td>\n",
       "      <td>NaN</td>\n",
       "      <td>2020</td>\n",
       "      <td>All OA; Gold</td>\n",
       "      <td>Article</td>\n",
       "      <td>Research Article</td>\n",
       "      <td>...</td>\n",
       "      <td>National Institute of Food and Agriculture</td>\n",
       "      <td>US Federal Funders; USDA - United States Depar...</td>\n",
       "      <td>United States</td>\n",
       "      <td>32</td>\n",
       "      <td>1.19</td>\n",
       "      <td>6.65</td>\n",
       "      <td>3.0</td>\n",
       "      <td>30 Agricultural, Veterinary and Food Sciences;...</td>\n",
       "      <td>A06 Agriculture, Veterinary and Food Science</td>\n",
       "      <td>NaN</td>\n",
       "    </tr>\n",
       "    <tr>\n",
       "      <th>pub.1041562973</th>\n",
       "      <td>Identification and Comparative Analysis of Dif...</td>\n",
       "      <td>Drought and flooding are two major causes of s...</td>\n",
       "      <td>Frontiers in Plant Science</td>\n",
       "      <td>1664-462X</td>\n",
       "      <td>Frontiers</td>\n",
       "      <td>NaN</td>\n",
       "      <td>2016</td>\n",
       "      <td>All OA; Gold</td>\n",
       "      <td>Article</td>\n",
       "      <td>Research Article</td>\n",
       "      <td>...</td>\n",
       "      <td>Agricultural Research Service</td>\n",
       "      <td>US Federal Funders; USDA - United States Depar...</td>\n",
       "      <td>United States</td>\n",
       "      <td>148</td>\n",
       "      <td>4.46</td>\n",
       "      <td>14.53</td>\n",
       "      <td>5.0</td>\n",
       "      <td>31 Biological Sciences; 3102 Bioinformatics an...</td>\n",
       "      <td>A05 Biological Sciences</td>\n",
       "      <td>NaN</td>\n",
       "    </tr>\n",
       "  </tbody>\n",
       "</table>\n",
       "<p>5 rows × 28 columns</p>\n",
       "</div>"
      ],
      "text/plain": [
       "                                                            Title  \\\n",
       "Publication ID                                                      \n",
       "pub.1122022308  Impacts of genomic research on soybean improve...   \n",
       "pub.1033945056  Genetic variants in root architecture-related ...   \n",
       "pub.1135327031  Development of an automated plant phenotyping ...   \n",
       "pub.1130186383  Mapping Quantitative Trait Loci for Soybean Se...   \n",
       "pub.1041562973  Identification and Comparative Analysis of Dif...   \n",
       "\n",
       "                                                         Abstract  \\\n",
       "Publication ID                                                      \n",
       "pub.1122022308  It has been commonly accepted that soybean dom...   \n",
       "pub.1033945056  BackgroundRoot system architecture is importan...   \n",
       "pub.1135327031  Plant high-throughput phenotyping technology i...   \n",
       "pub.1130186383  Wild soybean species (Glycine soja Siebold & Z...   \n",
       "pub.1041562973  Drought and flooding are two major causes of s...   \n",
       "\n",
       "                                            Source title  \\\n",
       "Publication ID                                             \n",
       "pub.1122022308          Theoretical and Applied Genetics   \n",
       "pub.1033945056                              BMC Genomics   \n",
       "pub.1135327031  Computers and Electronics in Agriculture   \n",
       "pub.1130186383                Frontiers in Plant Science   \n",
       "pub.1041562973                Frontiers in Plant Science   \n",
       "\n",
       "                                ISSN        Publisher  \\\n",
       "Publication ID                                          \n",
       "pub.1122022308  0040-5752, 1432-2242  Springer Nature   \n",
       "pub.1033945056             1471-2164  Springer Nature   \n",
       "pub.1135327031  0168-1699, 1872-7107         Elsevier   \n",
       "pub.1130186383             1664-462X        Frontiers   \n",
       "pub.1041562973             1664-462X        Frontiers   \n",
       "\n",
       "                                                       MeSH terms  PubYear  \\\n",
       "Publication ID                                                               \n",
       "pub.1122022308  asia, eastern; genome, plant; genomics; phenot...     2019   \n",
       "pub.1033945056  alleles; chromosome mapping; genome, plant; pl...     2015   \n",
       "pub.1135327031                                                NaN     2021   \n",
       "pub.1130186383                                                NaN     2020   \n",
       "pub.1041562973                                                NaN     2016   \n",
       "\n",
       "                   Open Access Publication Type     Document Type  ...  \\\n",
       "Publication ID                                                     ...   \n",
       "pub.1122022308  All OA; Hybrid          Article    Review Article  ...   \n",
       "pub.1033945056    All OA; Gold          Article  Research Article  ...   \n",
       "pub.1135327031          Closed          Article  Research Article  ...   \n",
       "pub.1130186383    All OA; Gold          Article  Research Article  ...   \n",
       "pub.1041562973    All OA; Gold          Article  Research Article  ...   \n",
       "\n",
       "                                                           Funder  \\\n",
       "Publication ID                                                      \n",
       "pub.1122022308                        University Grants Committee   \n",
       "pub.1033945056  Directorate for Biological Sciences; National ...   \n",
       "pub.1135327031                          China Scholarship Council   \n",
       "pub.1130186383         National Institute of Food and Agriculture   \n",
       "pub.1041562973                      Agricultural Research Service   \n",
       "\n",
       "                                                     Funder Group  \\\n",
       "Publication ID                                                      \n",
       "pub.1122022308                                                NaN   \n",
       "pub.1033945056  US Federal Funders; NSF - National Science Fou...   \n",
       "pub.1135327031                                                NaN   \n",
       "pub.1130186383  US Federal Funders; USDA - United States Depar...   \n",
       "pub.1041562973  US Federal Funders; USDA - United States Depar...   \n",
       "\n",
       "                              Funder Country Times cited   RCR    FCR  \\\n",
       "Publication ID                                                          \n",
       "pub.1122022308                         China          61  1.99  11.49   \n",
       "pub.1033945056  United States; United States          82  1.74   7.80   \n",
       "pub.1135327031                         China          29   NaN   7.77   \n",
       "pub.1130186383                 United States          32  1.19   6.65   \n",
       "pub.1041562973                 United States         148  4.46  14.53   \n",
       "\n",
       "               Altmetric                   Fields of Research (ANZSRC 2020)  \\\n",
       "Publication ID                                                                \n",
       "pub.1122022308       8.0  30 Agricultural, Veterinary and Food Sciences;...   \n",
       "pub.1033945056       7.0              31 Biological Sciences; 3105 Genetics   \n",
       "pub.1135327031       NaN  30 Agricultural, Veterinary and Food Sciences;...   \n",
       "pub.1130186383       3.0  30 Agricultural, Veterinary and Food Sciences;...   \n",
       "pub.1041562973       5.0  31 Biological Sciences; 3102 Bioinformatics an...   \n",
       "\n",
       "                                         Units of Assessment  \\\n",
       "Publication ID                                                 \n",
       "pub.1122022308  A06 Agriculture, Veterinary and Food Science   \n",
       "pub.1033945056  A06 Agriculture, Veterinary and Food Science   \n",
       "pub.1135327031  A06 Agriculture, Veterinary and Food Science   \n",
       "pub.1130186383  A06 Agriculture, Veterinary and Food Science   \n",
       "pub.1041562973                       A05 Biological Sciences   \n",
       "\n",
       "               Sustainable Development Goals  \n",
       "Publication ID                                \n",
       "pub.1122022308                 2 Zero Hunger  \n",
       "pub.1033945056                           NaN  \n",
       "pub.1135327031                           NaN  \n",
       "pub.1130186383                           NaN  \n",
       "pub.1041562973                           NaN  \n",
       "\n",
       "[5 rows x 28 columns]"
      ]
     },
     "execution_count": 48,
     "metadata": {},
     "output_type": "execute_result"
    }
   ],
   "source": [
    "df.loc[ids].head()"
   ]
  },
  {
   "cell_type": "markdown",
   "id": "67e5a8f4-378b-46c0-89b6-bada82746eca",
   "metadata": {},
   "source": [
    "---\n",
    "\n",
    "# Ignore below"
   ]
  },
  {
   "cell_type": "code",
   "execution_count": 129,
   "id": "2fbadcc0-66da-4bf1-9dde-8afe7587ce3d",
   "metadata": {},
   "outputs": [
    {
     "data": {
      "text/plain": [
       "array(['31 Biological Sciences; 3108 Plant Biology; 37 Earth Sciences',\n",
       "       '31 Biological Sciences; 3103 Ecology; 3108 Plant Biology',\n",
       "       '30 Agricultural, Veterinary and Food Sciences; 3004 Crop and Pasture Production; 31 Biological Sciences; 3101 Biochemistry and Cell Biology; 3108 Plant Biology',\n",
       "       '30 Agricultural, Veterinary and Food Sciences; 3007 Forestry Sciences; 31 Biological Sciences; 3103 Ecology'],\n",
       "      dtype=object)"
      ]
     },
     "execution_count": 129,
     "metadata": {},
     "output_type": "execute_result"
    }
   ],
   "source": [
    "pd.unique(foo['Fields of Research (ANZSRC 2020)'])"
   ]
  },
  {
   "cell_type": "code",
   "execution_count": 15,
   "id": "b0be154c-21fe-4d5f-83e1-d7c0b9df4017",
   "metadata": {},
   "outputs": [
    {
     "data": {
      "text/plain": [
       "array([nan,\n",
       "       'plant roots; water; abscisic acid; plant growth regulators; droughts; cell wall; soil; dehydration'],\n",
       "      dtype=object)"
      ]
     },
     "execution_count": 15,
     "metadata": {},
     "output_type": "execute_result"
    }
   ],
   "source": [
    "pd.unique(foo['MeSH terms'])"
   ]
  },
  {
   "cell_type": "code",
   "execution_count": 40,
   "id": "c19aaf4d-334b-49c5-8a5d-86e03740a1bf",
   "metadata": {},
   "outputs": [
    {
     "name": "stdout",
     "output_type": "stream",
     "text": [
      "5\n"
     ]
    },
    {
     "data": {
      "text/html": [
       "<div>\n",
       "<style scoped>\n",
       "    .dataframe tbody tr th:only-of-type {\n",
       "        vertical-align: middle;\n",
       "    }\n",
       "\n",
       "    .dataframe tbody tr th {\n",
       "        vertical-align: top;\n",
       "    }\n",
       "\n",
       "    .dataframe thead th {\n",
       "        text-align: right;\n",
       "    }\n",
       "</style>\n",
       "<table border=\"1\" class=\"dataframe\">\n",
       "  <thead>\n",
       "    <tr style=\"text-align: right;\">\n",
       "      <th></th>\n",
       "      <th>Title</th>\n",
       "      <th>Source title</th>\n",
       "      <th>Authors</th>\n",
       "      <th>MeSH terms</th>\n",
       "      <th>Corresponding Authors</th>\n",
       "    </tr>\n",
       "    <tr>\n",
       "      <th>Publication ID</th>\n",
       "      <th></th>\n",
       "      <th></th>\n",
       "      <th></th>\n",
       "      <th></th>\n",
       "      <th></th>\n",
       "    </tr>\n",
       "  </thead>\n",
       "  <tbody>\n",
       "    <tr>\n",
       "      <th>pub.1132771180</th>\n",
       "      <td>Quantitative trait locus mapping for resistanc...</td>\n",
       "      <td>Crop Science</td>\n",
       "      <td>Gillman, Jason D; Chebrolu, Kranthi; Smith, Ja...</td>\n",
       "      <td>NaN</td>\n",
       "      <td>Gillman, Jason D (Agricultural Research Servic...</td>\n",
       "    </tr>\n",
       "    <tr>\n",
       "      <th>pub.1182796904</th>\n",
       "      <td>Association mapping for water use efficiency i...</td>\n",
       "      <td>Frontiers in Plant Science</td>\n",
       "      <td>Chamarthi, Siva K; Purcell, Larry C; Fritschi,...</td>\n",
       "      <td>NaN</td>\n",
       "      <td>Gillman, Jason D (University of MissouriColumbia)</td>\n",
       "    </tr>\n",
       "    <tr>\n",
       "      <th>pub.1120401495</th>\n",
       "      <td>A seed germination transcriptomic study contra...</td>\n",
       "      <td>BMC Research Notes</td>\n",
       "      <td>Gillman, Jason D; Biever, Jessica J; Ye, Songq...</td>\n",
       "      <td>adaptation, physiological; gene expression pro...</td>\n",
       "      <td>Gillman, Jason D (University of MissouriColumbia)</td>\n",
       "    </tr>\n",
       "    <tr>\n",
       "      <th>pub.1018220376</th>\n",
       "      <td>Impact of heat stress during seed development ...</td>\n",
       "      <td>Metabolomics</td>\n",
       "      <td>Chebrolu, Kranthi K; Fritschi, Felix B; Ye, So...</td>\n",
       "      <td>NaN</td>\n",
       "      <td>Gillman, Jason D (University of MissouriColumbia)</td>\n",
       "    </tr>\n",
       "    <tr>\n",
       "      <th>pub.1079357170</th>\n",
       "      <td>Genotyping-by-Sequencing-Based Investigation o...</td>\n",
       "      <td>G3: Genes, Genomes, Genetics</td>\n",
       "      <td>Heim, Crystal B; Gillman, Jason D</td>\n",
       "      <td>base sequence; genes, plant; genotype; mutatio...</td>\n",
       "      <td>Gillman, Jason D (University of MissouriColumb...</td>\n",
       "    </tr>\n",
       "  </tbody>\n",
       "</table>\n",
       "</div>"
      ],
      "text/plain": [
       "                                                            Title  \\\n",
       "Publication ID                                                      \n",
       "pub.1132771180  Quantitative trait locus mapping for resistanc...   \n",
       "pub.1182796904  Association mapping for water use efficiency i...   \n",
       "pub.1120401495  A seed germination transcriptomic study contra...   \n",
       "pub.1018220376  Impact of heat stress during seed development ...   \n",
       "pub.1079357170  Genotyping-by-Sequencing-Based Investigation o...   \n",
       "\n",
       "                                Source title  \\\n",
       "Publication ID                                 \n",
       "pub.1132771180                  Crop Science   \n",
       "pub.1182796904    Frontiers in Plant Science   \n",
       "pub.1120401495            BMC Research Notes   \n",
       "pub.1018220376                  Metabolomics   \n",
       "pub.1079357170  G3: Genes, Genomes, Genetics   \n",
       "\n",
       "                                                          Authors  \\\n",
       "Publication ID                                                      \n",
       "pub.1132771180  Gillman, Jason D; Chebrolu, Kranthi; Smith, Ja...   \n",
       "pub.1182796904  Chamarthi, Siva K; Purcell, Larry C; Fritschi,...   \n",
       "pub.1120401495  Gillman, Jason D; Biever, Jessica J; Ye, Songq...   \n",
       "pub.1018220376  Chebrolu, Kranthi K; Fritschi, Felix B; Ye, So...   \n",
       "pub.1079357170                  Heim, Crystal B; Gillman, Jason D   \n",
       "\n",
       "                                                       MeSH terms  \\\n",
       "Publication ID                                                      \n",
       "pub.1132771180                                                NaN   \n",
       "pub.1182796904                                                NaN   \n",
       "pub.1120401495  adaptation, physiological; gene expression pro...   \n",
       "pub.1018220376                                                NaN   \n",
       "pub.1079357170  base sequence; genes, plant; genotype; mutatio...   \n",
       "\n",
       "                                            Corresponding Authors  \n",
       "Publication ID                                                     \n",
       "pub.1132771180  Gillman, Jason D (Agricultural Research Servic...  \n",
       "pub.1182796904  Gillman, Jason D (University of MissouriColumbia)  \n",
       "pub.1120401495  Gillman, Jason D (University of MissouriColumbia)  \n",
       "pub.1018220376  Gillman, Jason D (University of MissouriColumbia)  \n",
       "pub.1079357170  Gillman, Jason D (University of MissouriColumb...  "
      ]
     },
     "execution_count": 40,
     "metadata": {},
     "output_type": "execute_result"
    }
   ],
   "source": [
    "iscorr = np.zeros(len(usda), dtype=bool)\n",
    "for i, idx in enumerate(usda.index):\n",
    "    if not pd.isna(usda.iloc[i]['Corresponding Authors']):\n",
    "        iscorr[i] = 'Gillman, Jason' in usda.loc[idx, 'Corresponding Authors']\n",
    "print(np.sum(iscorr))\n",
    "foo = usda.loc[iscorr, ['Title', 'Source title', 'Authors', 'MeSH terms', 'Corresponding Authors']]\n",
    "foo.head(20)"
   ]
  },
  {
   "cell_type": "code",
   "execution_count": 41,
   "id": "1c807893-8889-445d-9eef-2f8acd8adbe4",
   "metadata": {},
   "outputs": [
    {
     "data": {
      "text/plain": [
       "'base sequence; genes, plant; genotype; mutation, missense; phenotype; plant proteins; seeds; soybean oil; glycine max; stearic acids'"
      ]
     },
     "execution_count": 41,
     "metadata": {},
     "output_type": "execute_result"
    }
   ],
   "source": [
    "foo.loc['pub.1079357170', 'MeSH terms']"
   ]
  },
  {
   "cell_type": "code",
   "execution_count": 50,
   "id": "a8adb197-fb63-41dc-8b2a-1a6c7fe33cf0",
   "metadata": {},
   "outputs": [
    {
     "data": {
      "text/plain": [
       "array(['Ateneo de Manila University; Agricultural Research Service - Midwest Area; University of Missouri-Columbia',\n",
       "       'Iowa State University of Science and Technology; Agricultural Research Service - Midwest Area',\n",
       "       'Agricultural Research Service - Midwest Area; Purdue University West Lafayette',\n",
       "       'Agricultural Research Service - Midwest Area; University of Missouri-Columbia',\n",
       "       'Agricultural Research Service - Midwest Area; Purdue University West Lafayette; Lewis Clark State College'],\n",
       "      dtype=object)"
      ]
     },
     "execution_count": 50,
     "metadata": {},
     "output_type": "execute_result"
    }
   ],
   "source": [
    "pd.unique(foo['Research Organizations - standardized'])"
   ]
  },
  {
   "cell_type": "code",
   "execution_count": 175,
   "id": "49c63e75-5840-4e24-83b4-bdff911c15c1",
   "metadata": {},
   "outputs": [
    {
     "name": "stdout",
     "output_type": "stream",
     "text": [
      "1\n",
      "1\n"
     ]
    },
    {
     "data": {
      "text/html": [
       "<div>\n",
       "<style scoped>\n",
       "    .dataframe tbody tr th:only-of-type {\n",
       "        vertical-align: middle;\n",
       "    }\n",
       "\n",
       "    .dataframe tbody tr th {\n",
       "        vertical-align: top;\n",
       "    }\n",
       "\n",
       "    .dataframe thead th {\n",
       "        text-align: right;\n",
       "    }\n",
       "</style>\n",
       "<table border=\"1\" class=\"dataframe\">\n",
       "  <thead>\n",
       "    <tr style=\"text-align: right;\">\n",
       "      <th></th>\n",
       "      <th>ISSN</th>\n",
       "    </tr>\n",
       "    <tr>\n",
       "      <th>Source title</th>\n",
       "      <th></th>\n",
       "    </tr>\n",
       "  </thead>\n",
       "  <tbody>\n",
       "  </tbody>\n",
       "</table>\n",
       "</div>"
      ],
      "text/plain": [
       "Empty DataFrame\n",
       "Columns: [ISSN]\n",
       "Index: []"
      ]
     },
     "execution_count": 175,
     "metadata": {},
     "output_type": "execute_result"
    }
   ],
   "source": [
    "jkw = ['Rhiz']\n",
    "isjournal = np.zeros(len(df), dtype=bool)\n",
    "for i,idx in enumerate(df.index):\n",
    "    if not pd.isna(df.loc[idx, 'Source title']):\n",
    "        foo = df.loc[idx, 'Source title']\n",
    "        isjournal[i] = any([ kw in foo for kw in jkw ])\n",
    "\n",
    "print(np.sum(isjournal))\n",
    "uq = [ x.upper() for x in pd.unique(df.loc[isjournal, 'Source title']) ]\n",
    "print(len(uq))\n",
    "uq, idx = np.unique(df.loc[isjournal, 'Source title'].values, return_index=True)\n",
    "idx = df.loc[isjournal, 'Source title'].index[idx].values\n",
    "bar = df.loc[idx, ['Source title', 'ISSN']]\n",
    "bar['Source title'] = bar['Source title'].str.upper()\n",
    "bar = bar.set_index('Source title')\n",
    "bar.loc[ np.setdiff1d(bar.index, journals['Journal']) ]"
   ]
  },
  {
   "cell_type": "code",
   "execution_count": 177,
   "id": "41e39c4c-7ea9-4fa0-8ea9-7ac343e72868",
   "metadata": {},
   "outputs": [
    {
     "data": {
      "text/html": [
       "<div>\n",
       "<style scoped>\n",
       "    .dataframe tbody tr th:only-of-type {\n",
       "        vertical-align: middle;\n",
       "    }\n",
       "\n",
       "    .dataframe tbody tr th {\n",
       "        vertical-align: top;\n",
       "    }\n",
       "\n",
       "    .dataframe thead th {\n",
       "        text-align: right;\n",
       "    }\n",
       "</style>\n",
       "<table border=\"1\" class=\"dataframe\">\n",
       "  <thead>\n",
       "    <tr style=\"text-align: right;\">\n",
       "      <th></th>\n",
       "      <th>Title</th>\n",
       "      <th>Authors</th>\n",
       "      <th>MeSH terms</th>\n",
       "      <th>Corresponding Authors</th>\n",
       "    </tr>\n",
       "    <tr>\n",
       "      <th>Publication ID</th>\n",
       "      <th></th>\n",
       "      <th></th>\n",
       "      <th></th>\n",
       "      <th></th>\n",
       "    </tr>\n",
       "  </thead>\n",
       "  <tbody>\n",
       "    <tr>\n",
       "      <th>pub.1181215363</th>\n",
       "      <td>Application of Pyroligneous Acid as a Plant Gr...</td>\n",
       "      <td>Noel, Randi; Schueller, Michael J; Guthrie, Ja...</td>\n",
       "      <td>NaN</td>\n",
       "      <td>Ferrieri, Richard A (University of MissouriCol...</td>\n",
       "    </tr>\n",
       "  </tbody>\n",
       "</table>\n",
       "</div>"
      ],
      "text/plain": [
       "                                                            Title  \\\n",
       "Publication ID                                                      \n",
       "pub.1181215363  Application of Pyroligneous Acid as a Plant Gr...   \n",
       "\n",
       "                                                          Authors MeSH terms  \\\n",
       "Publication ID                                                                 \n",
       "pub.1181215363  Noel, Randi; Schueller, Michael J; Guthrie, Ja...        NaN   \n",
       "\n",
       "                                            Corresponding Authors  \n",
       "Publication ID                                                     \n",
       "pub.1181215363  Ferrieri, Richard A (University of MissouriCol...  "
      ]
     },
     "execution_count": 177,
     "metadata": {},
     "output_type": "execute_result"
    }
   ],
   "source": [
    "df.loc[df['Source title'] == 'Crops', ['Title', 'Authors', 'MeSH terms', 'Corresponding Authors']]"
   ]
  },
  {
   "cell_type": "code",
   "execution_count": 38,
   "id": "00e61297-e26a-4c04-bee8-ea5c7cf9cfad",
   "metadata": {},
   "outputs": [
    {
     "name": "stdout",
     "output_type": "stream",
     "text": [
      "0\tRank\n",
      "1\tPublication ID\n",
      "2\tDOI\n",
      "3\tPMID\n",
      "4\tPMCID\n",
      "5\tISBN\n",
      "6\tTitle\n",
      "7\tAbstract\n",
      "8\tAcknowledgements\n",
      "9\tFunding\n",
      "10\tSource title\n",
      "11\tAnthology title\n",
      "12\tBook editors\n",
      "13\tPublisher\n",
      "14\tISSN\n",
      "15\tMeSH terms\n",
      "16\tPublication date\n",
      "17\tPubYear\n",
      "18\tPublication date (online)\n",
      "19\tPublication date (print)\n",
      "20\tVolume\n",
      "21\tIssue\n",
      "22\tPagination\n",
      "23\tOpen Access\n",
      "24\tPublication Type\n",
      "25\tDocument Type\n",
      "26\tAuthors\n",
      "27\tAuthors (Raw Affiliation)\n",
      "28\tCorresponding Authors\n",
      "29\tAuthors Affiliations\n",
      "30\tResearch Organizations - standardized\n",
      "31\tGRID IDs\n",
      "32\tCity of standardized research organization\n",
      "33\tState of standardized research organization\n",
      "34\tCountry of standardized research organization\n",
      "35\tFunder\n",
      "36\tFunder Group\n",
      "37\tFunder Country\n",
      "38\tGrant IDs of Supporting Grants\n",
      "39\tSupporting Grants\n",
      "40\tTimes cited\n",
      "41\tRecent citations\n",
      "42\tRCR\n",
      "43\tFCR\n",
      "44\tAltmetric\n",
      "45\tSource Linkout\n",
      "46\tDimensions URL\n",
      "47\tFields of Research (ANZSRC 2020)\n",
      "48\tRCDC Categories\n",
      "49\tHRCS HC Categories\n",
      "50\tHRCS RAC Categories\n",
      "51\tCancer Types\n",
      "52\tCSO Categories\n",
      "53\tUnits of Assessment\n",
      "54\tSustainable Development Goals\n"
     ]
    }
   ],
   "source": [
    "for i in range(len(df.columns)):\n",
    "    print(i, df.columns[i], sep='\\t')"
   ]
  },
  {
   "cell_type": "code",
   "execution_count": 46,
   "id": "3008b3a1-48ea-4de3-b158-54d0a3303ca1",
   "metadata": {},
   "outputs": [],
   "source": [
    "meshs = df.loc[~isplant, 'MeSH terms']\n",
    "meshs = meshs[~pd.isna(meshs)]\n",
    "mesh = set()\n",
    "for i in range(len(meshs)):\n",
    "    mesh |= set(meshs.iloc[i].split('; '))\n",
    "mesh = sorted(list(mesh))\n",
    "#pd.Series(mesh).to_csv(src + 'mesh.txt', index=False, header=False, sep='\\n')"
   ]
  },
  {
   "cell_type": "code",
   "execution_count": 109,
   "id": "878ffc81-911c-4142-be4b-16a4dd4019da",
   "metadata": {},
   "outputs": [
    {
     "name": "stdout",
     "output_type": "stream",
     "text": [
      "1274\n"
     ]
    }
   ],
   "source": [
    "meshs = df.loc[isplant, 'MeSH terms']\n",
    "meshs = meshs[~pd.isna(meshs)]\n",
    "mesh = set()\n",
    "for i in range(len(meshs)):\n",
    "    mesh |= set(meshs.iloc[i].split('; '))\n",
    "mesh = sorted(list(mesh))\n",
    "print(len(mesh))\n",
    "pd.Series(mesh).to_csv(src + 'plant_MU_mesh.txt', index=False, header=False, sep='\\n')"
   ]
  },
  {
   "cell_type": "code",
   "execution_count": 158,
   "id": "44f5c79b-8e75-4644-bc14-a66944413f6d",
   "metadata": {},
   "outputs": [
    {
     "name": "stdout",
     "output_type": "stream",
     "text": [
      "(99, 5)\n"
     ]
    }
   ],
   "source": [
    "foo = df.loc[~isplant]\n",
    "bar = foo.iloc[ isplantmesh[~isplant] > 2 ][['Publication ID', 'MeSH terms', 'Title', 'Source title', 'Corresponding Authors']]\n",
    "print(bar.shape)"
   ]
  },
  {
   "cell_type": "code",
   "execution_count": 216,
   "id": "58401a32-9be8-4664-be27-9ac8e8125d9e",
   "metadata": {},
   "outputs": [
    {
     "data": {
      "text/html": [
       "<div>\n",
       "<style scoped>\n",
       "    .dataframe tbody tr th:only-of-type {\n",
       "        vertical-align: middle;\n",
       "    }\n",
       "\n",
       "    .dataframe tbody tr th {\n",
       "        vertical-align: top;\n",
       "    }\n",
       "\n",
       "    .dataframe thead th {\n",
       "        text-align: right;\n",
       "    }\n",
       "</style>\n",
       "<table border=\"1\" class=\"dataframe\">\n",
       "  <thead>\n",
       "    <tr style=\"text-align: right;\">\n",
       "      <th></th>\n",
       "      <th>Pubs Num</th>\n",
       "      <th>Length</th>\n",
       "      <th>Names</th>\n",
       "    </tr>\n",
       "  </thead>\n",
       "  <tbody>\n",
       "    <tr>\n",
       "      <th>Nguyen, Henry T</th>\n",
       "      <td>58</td>\n",
       "      <td>15</td>\n",
       "      <td>Nguyen, Henry T</td>\n",
       "    </tr>\n",
       "    <tr>\n",
       "      <th>Mittler, Ron</th>\n",
       "      <td>51</td>\n",
       "      <td>12</td>\n",
       "      <td>Mittler, Ron</td>\n",
       "    </tr>\n",
       "    <tr>\n",
       "      <th>Meyers, Blake C</th>\n",
       "      <td>36</td>\n",
       "      <td>15</td>\n",
       "      <td>Meyers, Blake C</td>\n",
       "    </tr>\n",
       "    <tr>\n",
       "      <th>Stacey, Gary</th>\n",
       "      <td>34</td>\n",
       "      <td>12</td>\n",
       "      <td>Stacey, Gary</td>\n",
       "    </tr>\n",
       "    <tr>\n",
       "      <th>Birchler, James A</th>\n",
       "      <td>28</td>\n",
       "      <td>17</td>\n",
       "      <td>Birchler, James A</td>\n",
       "    </tr>\n",
       "    <tr>\n",
       "      <th>...</th>\n",
       "      <td>...</td>\n",
       "      <td>...</td>\n",
       "      <td>...</td>\n",
       "    </tr>\n",
       "    <tr>\n",
       "      <th>Li, Song</th>\n",
       "      <td>1</td>\n",
       "      <td>8</td>\n",
       "      <td>Li, Song</td>\n",
       "    </tr>\n",
       "    <tr>\n",
       "      <th>Qin, Hua</th>\n",
       "      <td>1</td>\n",
       "      <td>8</td>\n",
       "      <td>Qin, Hua</td>\n",
       "    </tr>\n",
       "    <tr>\n",
       "      <th>Song, Li</th>\n",
       "      <td>1</td>\n",
       "      <td>8</td>\n",
       "      <td>Song, Li</td>\n",
       "    </tr>\n",
       "    <tr>\n",
       "      <th>Chen, P</th>\n",
       "      <td>1</td>\n",
       "      <td>7</td>\n",
       "      <td>Chen, P</td>\n",
       "    </tr>\n",
       "    <tr>\n",
       "      <th>Lall, N</th>\n",
       "      <td>1</td>\n",
       "      <td>7</td>\n",
       "      <td>Lall, N</td>\n",
       "    </tr>\n",
       "  </tbody>\n",
       "</table>\n",
       "<p>260 rows × 3 columns</p>\n",
       "</div>"
      ],
      "text/plain": [
       "                   Pubs Num  Length              Names\n",
       "Nguyen, Henry T          58      15    Nguyen, Henry T\n",
       "Mittler, Ron             51      12       Mittler, Ron\n",
       "Meyers, Blake C          36      15    Meyers, Blake C\n",
       "Stacey, Gary             34      12       Stacey, Gary\n",
       "Birchler, James A        28      17  Birchler, James A\n",
       "...                     ...     ...                ...\n",
       "Li, Song                  1       8           Li, Song\n",
       "Qin, Hua                  1       8           Qin, Hua\n",
       "Song, Li                  1       8           Song, Li\n",
       "Chen, P                   1       7            Chen, P\n",
       "Lall, N                   1       7            Lall, N\n",
       "\n",
       "[260 rows x 3 columns]"
      ]
     },
     "execution_count": 216,
     "metadata": {},
     "output_type": "execute_result"
    }
   ],
   "source": [
    "foo = pnum.to_frame(name='Pubs Num')\n",
    "foo['Length'] = np.array(list(map(len,pnum.index.values)))\n",
    "foo['Names'] = foo.index.values\n",
    "foo = foo.sort_values(by=['Pubs Num', 'Length', 'Names'], ascending=[False, False, True])\n",
    "foo"
   ]
  },
  {
   "cell_type": "code",
   "execution_count": 85,
   "id": "8afaa8c0-71cf-4ab1-9abe-11b2fecf00ca",
   "metadata": {},
   "outputs": [
    {
     "name": "stdout",
     "output_type": "stream",
     "text": [
      "Last name: Stacey --\tFirst name: Minviluz G --\tInitials: ['M', 'G']\n",
      "Last comp: Stacey --\tFirst comp: Minviluz G --\tInitials: ['M', 'G']\n"
     ]
    }
   ],
   "source": [
    "name1, name2 = 'Stacey, Minviluz G', 'Stacey, Gary'\n",
    "\n",
    "lname1, fname1 = name1.split(', ')\n",
    "inits1 = [x[0] for x in fname1.split(' ')]\n",
    "\n",
    "lname2, fname2 = name2.split(', ')\n",
    "inits2 = [x[0] for x in fname2.split(' ')]\n",
    "\n",
    "#If none of the initials match, then assume that names are not equal and move on\n",
    "if not any([x in inits1 for x in inits2]):\n",
    "    print('No initial matching')\n",
    "\n",
    "fuzzscore = fuzz.ratio(name1.casefold(), name2.casefold())\n",
    "if fuzzscore >= 98:\n",
    "    print('Fuzzscore', fuzzscore)\n",
    "\n",
    "# Add blank spaces for first names reduced to intials\n",
    "# e.g. Riedell, WE --> Riedell, W E\n",
    "                \n",
    "fname1 = utils.add_blanks(fname1)\n",
    "inits1 = [x[0] for x in fname1.split(' ')]\n",
    "\n",
    "fname2 = utils.add_blanks(fname2)\n",
    "inits2 = [x[0] for x in fname2.split(' ')]\n",
    "\n",
    "print('Last name: ', lname1, ' --\\tFirst name: ', fname1, ' --\\tInitials: ',inits1, sep='')\n",
    "print('Last comp: ', lname2, ' --\\tFirst comp: ', fname2, ' --\\tInitials: ',inits2, sep='')"
   ]
  }
 ],
 "metadata": {
  "kernelspec": {
   "display_name": "Python 3 (ipykernel)",
   "language": "python",
   "name": "python3"
  },
  "language_info": {
   "codemirror_mode": {
    "name": "ipython",
    "version": 3
   },
   "file_extension": ".py",
   "mimetype": "text/x-python",
   "name": "python",
   "nbconvert_exporter": "python",
   "pygments_lexer": "ipython3",
   "version": "3.10.12"
  }
 },
 "nbformat": 4,
 "nbformat_minor": 5
}
